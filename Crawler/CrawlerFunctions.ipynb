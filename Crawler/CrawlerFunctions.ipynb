{
 "cells": [
  {
   "cell_type": "code",
   "execution_count": 1,
   "metadata": {},
   "outputs": [],
   "source": [
    "import pandas as pd\n",
    "import concurrent.futures\n",
    "import requests\n",
    "import time\n",
    "import numpy as np\n",
    "import glob2 as glob\n",
    "from unidecode import unidecode\n",
    "import os\n",
    "import logging\n",
    "import cv2\n",
    "import matplotlib.pyplot as plt"
   ]
  },
  {
   "cell_type": "code",
   "execution_count": 2,
   "metadata": {},
   "outputs": [],
   "source": [
    "csv = pd.read_csv('annotations.csv')"
   ]
  },
  {
   "cell_type": "code",
   "execution_count": 3,
   "metadata": {},
   "outputs": [
    {
     "data": {
      "text/plain": [
       "Index(['palavra', 'video_url', 'filename', 'classe_gramatical', 'assunto',\n",
       "       'configuracao_mao'],\n",
       "      dtype='object')"
      ]
     },
     "execution_count": 3,
     "metadata": {},
     "output_type": "execute_result"
    }
   ],
   "source": [
    "csv.columns"
   ]
  },
  {
   "cell_type": "code",
   "execution_count": 4,
   "metadata": {},
   "outputs": [],
   "source": [
    "csv['CM'] = (csv['configuracao_mao']).str.rsplit('/', 1).map(lambda x: x[1])\n",
    "csv['CM'] = (csv['CM']).str.rsplit('.', 1).map(lambda x: x[0])\n",
    "\n",
    "csv['filename'] = csv['filename'].map(lambda x:unidecode(x))\n",
    "csv['filename'][652] = csv['filename'][652].rsplit('/', 1)[1]\n",
    "csv['filename'][653] = csv['filename'][653].rsplit('/', 1)[1]\n",
    "\n",
    "csv['palavra'] = (csv['filename']).map(lambda x:unidecode(x))\n",
    "csv['palavra'] = (csv['palavra']).str.rsplit('.', 1).map(lambda x: x[0])\n",
    "csv.to_csv('processedAnnotations.csv', index=False)"
   ]
  },
  {
   "cell_type": "code",
   "execution_count": 5,
   "metadata": {},
   "outputs": [],
   "source": [
    "csv2 = csv.copy()\n",
    "csv2['len_palavra'] = csv2['palavra'].map(lambda x:len(x))\n",
    "csv2 = csv2[csv2['len_palavra'] > 0]\n",
    "csv2 = csv2.drop(['video_url', 'configuracao_mao', 'filename', 'len_palavra'], axis=1)\n",
    "csv2['letra'] = csv2['palavra'].map(lambda x:x[0])"
   ]
  },
  {
   "cell_type": "code",
   "execution_count": 6,
   "metadata": {},
   "outputs": [
    {
     "data": {
      "text/html": [
       "<div>\n",
       "<style scoped>\n",
       "    .dataframe tbody tr th:only-of-type {\n",
       "        vertical-align: middle;\n",
       "    }\n",
       "\n",
       "    .dataframe tbody tr th {\n",
       "        vertical-align: top;\n",
       "    }\n",
       "\n",
       "    .dataframe thead th {\n",
       "        text-align: right;\n",
       "    }\n",
       "</style>\n",
       "<table border=\"1\" class=\"dataframe\">\n",
       "  <thead>\n",
       "    <tr style=\"text-align: right;\">\n",
       "      <th></th>\n",
       "      <th>palavra</th>\n",
       "      <th>classe_gramatical</th>\n",
       "      <th>assunto</th>\n",
       "      <th>CM</th>\n",
       "      <th>letra</th>\n",
       "    </tr>\n",
       "  </thead>\n",
       "  <tbody>\n",
       "    <tr>\n",
       "      <th>0</th>\n",
       "      <td>A</td>\n",
       "      <td>SUBSTANTIVO</td>\n",
       "      <td>NENHUM</td>\n",
       "      <td>cg01</td>\n",
       "      <td>A</td>\n",
       "    </tr>\n",
       "    <tr>\n",
       "      <th>1</th>\n",
       "      <td>ABACATE</td>\n",
       "      <td>SUBSTANTIVO</td>\n",
       "      <td>FRUTA</td>\n",
       "      <td>cg53a</td>\n",
       "      <td>A</td>\n",
       "    </tr>\n",
       "    <tr>\n",
       "      <th>2</th>\n",
       "      <td>ABACAXI</td>\n",
       "      <td>SUBSTANTIVO</td>\n",
       "      <td>FRUTA</td>\n",
       "      <td>cg47</td>\n",
       "      <td>A</td>\n",
       "    </tr>\n",
       "    <tr>\n",
       "      <th>3</th>\n",
       "      <td>ABAFAR</td>\n",
       "      <td>VERBO</td>\n",
       "      <td>NENHUM</td>\n",
       "      <td>cg07</td>\n",
       "      <td>A</td>\n",
       "    </tr>\n",
       "    <tr>\n",
       "      <th>4</th>\n",
       "      <td>ABAIXO</td>\n",
       "      <td>ADV.</td>\n",
       "      <td>NENHUM</td>\n",
       "      <td>cg62</td>\n",
       "      <td>A</td>\n",
       "    </tr>\n",
       "    <tr>\n",
       "      <th>...</th>\n",
       "      <td>...</td>\n",
       "      <td>...</td>\n",
       "      <td>...</td>\n",
       "      <td>...</td>\n",
       "      <td>...</td>\n",
       "    </tr>\n",
       "    <tr>\n",
       "      <th>5733</th>\n",
       "      <td>ZIGUEZAGUEAR</td>\n",
       "      <td>VERBO</td>\n",
       "      <td>NENHUM</td>\n",
       "      <td>cg62</td>\n",
       "      <td>Z</td>\n",
       "    </tr>\n",
       "    <tr>\n",
       "      <th>5734</th>\n",
       "      <td>ZIPER</td>\n",
       "      <td>SUBSTANTIVO</td>\n",
       "      <td>VESTUÁRIO/COMPLEMENTOS</td>\n",
       "      <td>cg05</td>\n",
       "      <td>Z</td>\n",
       "    </tr>\n",
       "    <tr>\n",
       "      <th>5735</th>\n",
       "      <td>ZOMBAR</td>\n",
       "      <td>VERBO</td>\n",
       "      <td>NENHUM</td>\n",
       "      <td>cg08a</td>\n",
       "      <td>Z</td>\n",
       "    </tr>\n",
       "    <tr>\n",
       "      <th>5736</th>\n",
       "      <td>ZOOLOGICO</td>\n",
       "      <td>ADJETIVO</td>\n",
       "      <td>NENHUM</td>\n",
       "      <td>cg14</td>\n",
       "      <td>Z</td>\n",
       "    </tr>\n",
       "    <tr>\n",
       "      <th>5737</th>\n",
       "      <td>ZUM</td>\n",
       "      <td>SUBSTANTIVO</td>\n",
       "      <td>NENHUM</td>\n",
       "      <td>cg53a</td>\n",
       "      <td>Z</td>\n",
       "    </tr>\n",
       "  </tbody>\n",
       "</table>\n",
       "<p>5736 rows × 5 columns</p>\n",
       "</div>"
      ],
      "text/plain": [
       "           palavra classe_gramatical                 assunto     CM letra\n",
       "0                A       SUBSTANTIVO                  NENHUM   cg01     A\n",
       "1          ABACATE       SUBSTANTIVO                   FRUTA  cg53a     A\n",
       "2          ABACAXI       SUBSTANTIVO                   FRUTA   cg47     A\n",
       "3           ABAFAR             VERBO                  NENHUM   cg07     A\n",
       "4           ABAIXO              ADV.                  NENHUM   cg62     A\n",
       "...            ...               ...                     ...    ...   ...\n",
       "5733  ZIGUEZAGUEAR             VERBO                  NENHUM   cg62     Z\n",
       "5734         ZIPER       SUBSTANTIVO  VESTUÁRIO/COMPLEMENTOS   cg05     Z\n",
       "5735        ZOMBAR             VERBO                  NENHUM  cg08a     Z\n",
       "5736     ZOOLOGICO          ADJETIVO                  NENHUM   cg14     Z\n",
       "5737           ZUM       SUBSTANTIVO                  NENHUM  cg53a     Z\n",
       "\n",
       "[5736 rows x 5 columns]"
      ]
     },
     "execution_count": 6,
     "metadata": {},
     "output_type": "execute_result"
    }
   ],
   "source": [
    "csv2"
   ]
  },
  {
   "cell_type": "code",
   "execution_count": 7,
   "metadata": {},
   "outputs": [
    {
     "name": "stderr",
     "output_type": "stream",
     "text": [
      "/home/fabiana/miniconda3/envs/opencv/lib/python3.7/site-packages/ipykernel_launcher.py:2: FutureWarning: The signature of `Series.to_csv` was aligned to that of `DataFrame.to_csv`, and argument 'header' will change its default value from False to True: please pass an explicit value to suppress this warning.\n",
      "  \n"
     ]
    }
   ],
   "source": [
    "countLetters = csv2.groupby(['letra']).count()['palavra']\n",
    "countLetters.to_csv('countWordsPerLetter.csv')"
   ]
  },
  {
   "cell_type": "code",
   "execution_count": 8,
   "metadata": {},
   "outputs": [
    {
     "name": "stderr",
     "output_type": "stream",
     "text": [
      "/home/fabiana/miniconda3/envs/opencv/lib/python3.7/site-packages/ipykernel_launcher.py:2: FutureWarning: The signature of `Series.to_csv` was aligned to that of `DataFrame.to_csv`, and argument 'header' will change its default value from False to True: please pass an explicit value to suppress this warning.\n",
      "  \n"
     ]
    }
   ],
   "source": [
    "countCM = csv2.groupby(['CM']).count()['palavra']\n",
    "countCM.to_csv('countWordsPerCM.csv')"
   ]
  },
  {
   "cell_type": "code",
   "execution_count": 9,
   "metadata": {},
   "outputs": [
    {
     "data": {
      "text/plain": [
       "Text(0.5, 1.0, 'Quantidade de palavras por configuração de mão')"
      ]
     },
     "execution_count": 9,
     "metadata": {},
     "output_type": "execute_result"
    },
    {
     "data": {
      "image/png": "[encoded data removed]",
      "text/plain": [
       "<Figure size 432x288 with 1 Axes>"
      ]
     },
     "metadata": {
      "needs_background": "light"
     },
     "output_type": "display_data"
    }
   ],
   "source": [
    "%matplotlib inline\n",
    "y_pos = np.arange(len(countCM))\n",
    "plt.bar(y_pos, countCM.values, align='center', alpha=0.5)\n",
    "plt.xticks(y_pos, countCM.index, rotation='vertical')\n",
    "plt.ylabel('Quantidade')\n",
    "plt.title('Quantidade de palavras por configuração de mão')"
   ]
  },
  {
   "cell_type": "code",
   "execution_count": 11,
   "metadata": {},
   "outputs": [
    {
     "data": {
      "text/plain": [
       "Text(0.5, 1.0, 'Quantidade de palavras por letra do alfabeto')"
      ]
     },
     "execution_count": 11,
     "metadata": {},
     "output_type": "execute_result"
    },
    {
     "data": {
      "image/png": "[encoded data removed]",
      "text/plain": [
       "<Figure size 432x288 with 1 Axes>"
      ]
     },
     "metadata": {
      "needs_background": "light"
     },
     "output_type": "display_data"
    }
   ],
   "source": [
    "%matplotlib inline\n",
    "y_pos = np.arange(len(countLetters))\n",
    "plt.bar(y_pos, countLetters.values, align='center', alpha=0.5)\n",
    "plt.xticks(y_pos, countLetters.index)\n",
    "plt.ylabel('Quantidade')\n",
    "plt.title('Quantidade de palavras por letra do alfabeto')"
   ]
  },
  {
   "cell_type": "code",
   "execution_count": 10,
   "metadata": {},
   "outputs": [],
   "source": [
    "csv2.columns\n",
    "csv2.to_csv('annotationsForVis.csv', index=False)"
   ]
  },
  {
   "cell_type": "code",
   "execution_count": 16,
   "metadata": {},
   "outputs": [],
   "source": [
    "gp = csv2.groupby(['CM'])"
   ]
  },
  {
   "cell_type": "code",
   "execution_count": 20,
   "metadata": {},
   "outputs": [
    {
     "data": {
      "text/plain": [
       "CM\n",
       "cg01    193\n",
       "cg02    442\n",
       "cg03      4\n",
       "cg04     17\n",
       "cg05    174\n",
       "       ... \n",
       "cg60     13\n",
       "cg61    115\n",
       "cg62    140\n",
       "cg63    473\n",
       "cg64    295\n",
       "Name: palavra, Length: 73, dtype: int64"
      ]
     },
     "execution_count": 20,
     "metadata": {},
     "output_type": "execute_result"
    }
   ],
   "source": [
    "gp['palavra'].count()"
   ]
  },
  {
   "cell_type": "code",
   "execution_count": 61,
   "metadata": {},
   "outputs": [],
   "source": [
    "CONNECTIONS = 30\n",
    "TIMEOUT = 5\n",
    "labels = np.unique(csv['CM'])\n",
    "urls_CM = np.unique(csv['configuracao_mao'])\n",
    "urls_videos = csv['video_url']\n",
    "filenames = csv['filename']"
   ]
  },
  {
   "cell_type": "code",
   "execution_count": null,
   "metadata": {},
   "outputs": [],
   "source": []
  },
  {
   "cell_type": "code",
   "execution_count": 82,
   "metadata": {},
   "outputs": [],
   "source": [
    "def load_url_images(url, index, folder):\n",
    "    r = requests.get(url, allow_redirects=True)\n",
    "    open(folder + labels[index] + '.jpg', 'wb').write(r.content)\n",
    "    \n",
    "def load_url_videos(url, index, folder):\n",
    "    r = requests.get(url, allow_redirects=True)\n",
    "    open(folder + filenames[index], 'wb').write(r.content)\n",
    "    \n",
    "def getAllFiles (pathToFiles):\n",
    "    files = []\n",
    "    files = glob.glob(pathToFiles + '/*/*.mp4', recursive=True)\n",
    "    return files"
   ]
  },
  {
   "cell_type": "markdown",
   "metadata": {},
   "source": [
    "### Downloading video files"
   ]
  },
  {
   "cell_type": "code",
   "execution_count": 86,
   "metadata": {},
   "outputs": [],
   "source": [
    "with concurrent.futures.ThreadPoolExecutor(max_workers=CONNECTIONS) as executor:\n",
    "    future_to_url = {executor.submit(load_url_videos, url, index, \"Videos/\") : url for index, url in enumerate(urls_videos)}\n",
    "    time1 = time.time()\n",
    "    for future in concurrent.futures.as_completed(future_to_url):\n",
    "        url = future_to_url[future]\n",
    "        try:\n",
    "            data = future.result()\n",
    "        except Exception as exc:\n",
    "            print('%r generated an exception: %s' % (url, exc))\n",
    "        finally:\n",
    "            csv.loc[csv['video_url'] == url, 'downloaded'] = 'ok'\n",
    "            print(str(len(out)),end=\"\\r\")\n",
    "            \n",
    "    time2 = time.time()\n",
    "\n",
    "print(f'Took {time2-time1:.2f} s')\n",
    "print(pd.Series(out).value_counts())"
   ]
  },
  {
   "cell_type": "markdown",
   "metadata": {},
   "source": [
    "### Creating inner directories so as to organize videos by alphabetical order"
   ]
  },
  {
   "cell_type": "code",
   "execution_count": 87,
   "metadata": {},
   "outputs": [],
   "source": [
    "path = \"/home/fabiana/Desktop/projeto-final-src/Crawler/Videos\"\n",
    "pfPath = \"/home/fabiana/Desktop/projeto-final-src/Crawler\"\n",
    "files = getAllFiles(path)"
   ]
  },
  {
   "cell_type": "code",
   "execution_count": 88,
   "metadata": {},
   "outputs": [],
   "source": [
    "for file in files:\n",
    "    filename = file.rsplit('/', 1)[1]\n",
    "    letter = filename[0]\n",
    "    if (not os.path.isdir(path + '/' + letter)):\n",
    "        os.mkdir(path + '/' + letter)\n",
    "    os.rename(file, path + '/' + letter + '/' + filename)"
   ]
  },
  {
   "cell_type": "markdown",
   "metadata": {},
   "source": [
    "### Creating log to keep track of corrupted files"
   ]
  },
  {
   "cell_type": "code",
   "execution_count": 89,
   "metadata": {},
   "outputs": [],
   "source": [
    "for handler in logging.root.handlers[:]:\n",
    "    logging.root.removeHandler(handler)\n",
    "logging.basicConfig(level=logging.INFO, \n",
    "    format='%(asctime)s [%(levelname)s] - %(message)s',\n",
    "    filename=\"/home/fabiana/Desktop/projeto-final-src/Crawler/corruptedFiles.log\",\n",
    "   filemode='w')\n",
    "\n",
    "for file in files:\n",
    "    cap = cv2.VideoCapture(file)\n",
    "    length = int(cap.get(cv2.CAP_PROP_FRAME_COUNT))\n",
    "    if (length < 1):\n",
    "        logging.error('There are no frames in ' + file)\n",
    "cap.release()"
   ]
  }
 ],
 "metadata": {
  "kernelspec": {
   "display_name": "Python 3",
   "language": "python",
   "name": "python3"
  },
  "language_info": {
   "codemirror_mode": {
    "name": "ipython",
    "version": 3
   },
   "file_extension": ".py",
   "mimetype": "text/x-python",
   "name": "python",
   "nbconvert_exporter": "python",
   "pygments_lexer": "ipython3",
   "version": "3.7.4"
  }
 },
 "nbformat": 4,
 "nbformat_minor": 4
}
