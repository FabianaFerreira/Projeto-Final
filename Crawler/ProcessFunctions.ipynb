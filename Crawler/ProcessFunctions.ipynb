{
 "cells": [
  {
   "cell_type": "code",
   "execution_count": 214,
   "metadata": {},
   "outputs": [],
   "source": [
    "import pandas as pd\n",
    "import concurrent.futures\n",
    "import requests\n",
    "import time\n",
    "import numpy as np\n",
    "import glob2 as glob\n",
    "from unidecode import unidecode"
   ]
  },
  {
   "cell_type": "code",
   "execution_count": 215,
   "metadata": {},
   "outputs": [],
   "source": [
    "csv = pd.read_csv('annotations.csv')"
   ]
  },
  {
   "cell_type": "code",
   "execution_count": 216,
   "metadata": {},
   "outputs": [],
   "source": [
    "csv['CM'] = (csv['configuracao_mao']).str.rsplit('/', 1).map(lambda x: x[1])\n",
    "csv['CM'] = (csv['CM']).str.rsplit('.', 1).map(lambda x: x[0])\n",
    "\n",
    "csv['filename'] = csv['filename'].map(lambda x:unidecode(x))\n",
    "csv['filename'][652] = csv['filename'][652].rsplit('/', 1)[1]\n",
    "csv['filename'][653] = csv['filename'][653].rsplit('/', 1)[1]\n",
    "\n",
    "csv['palavra'] = csv['filename'].map(lambda x:unidecode(x))\n",
    "csv.to_csv('processedAnnotations.csv', index=False)"
   ]
  },
  {
   "cell_type": "code",
   "execution_count": 223,
   "metadata": {},
   "outputs": [],
   "source": [
    "CONNECTIONS = 30\n",
    "TIMEOUT = 5\n",
    "labels = np.unique(csv['CM'])\n",
    "urls_CM = np.unique(csv['configuracao_mao'])\n",
    "urls_videos = csv['video_url']\n",
    "filenames = csv['filename']"
   ]
  },
  {
   "cell_type": "code",
   "execution_count": 218,
   "metadata": {},
   "outputs": [],
   "source": [
    "def load_url_images(url, index, folder):\n",
    "    r = requests.get(url, allow_redirects=True)\n",
    "    open(folder + labels[index] + '.jpg', 'wb').write(r.content)\n",
    "    \n",
    "def load_url_videos(url, index, folder):\n",
    "    r = requests.get(url, allow_redirects=True)\n",
    "    open(folder + filenames[index], 'wb').write(r.content)\n",
    "    \n",
    "def getAllFiles (pathToFiles):\n",
    "    files = []\n",
    "    files = glob.glob(pathToFiles + '/*', recursive=True)\n",
    "    return files"
   ]
  },
  {
   "cell_type": "markdown",
   "metadata": {},
   "source": [
    "### Downloading video files"
   ]
  },
  {
   "cell_type": "code",
   "execution_count": 220,
   "metadata": {},
   "outputs": [
    {
     "name": "stdout",
     "output_type": "stream",
     "text": [
      "Took 69.37 s\n",
      "Series([], dtype: int64)\n"
     ]
    }
   ],
   "source": [
    "with concurrent.futures.ThreadPoolExecutor(max_workers=CONNECTIONS) as executor:\n",
    "    future_to_url = {executor.submit(load_url_videos, url, index, \"Videos/\") : url for index, url in enumerate(urls_videos)}\n",
    "    time1 = time.time()\n",
    "    for future in concurrent.futures.as_completed(future_to_url):\n",
    "        url = future_to_url[future]\n",
    "        try:\n",
    "            data = future.result()\n",
    "        except Exception as exc:\n",
    "            print('%r generated an exception: %s' % (url, exc))\n",
    "        finally:\n",
    "            csv.loc[csv['video_url'] == url, 'downloaded'] = 'ok'\n",
    "            print(str(len(out)),end=\"\\r\")\n",
    "            \n",
    "    time2 = time.time()\n",
    "\n",
    "print(f'Took {time2-time1:.2f} s')\n",
    "print(pd.Series(out).value_counts())"
   ]
  },
  {
   "cell_type": "code",
   "execution_count": 224,
   "metadata": {},
   "outputs": [
    {
     "data": {
      "text/html": [
       "<div>\n",
       "<style scoped>\n",
       "    .dataframe tbody tr th:only-of-type {\n",
       "        vertical-align: middle;\n",
       "    }\n",
       "\n",
       "    .dataframe tbody tr th {\n",
       "        vertical-align: top;\n",
       "    }\n",
       "\n",
       "    .dataframe thead th {\n",
       "        text-align: right;\n",
       "    }\n",
       "</style>\n",
       "<table border=\"1\" class=\"dataframe\">\n",
       "  <thead>\n",
       "    <tr style=\"text-align: right;\">\n",
       "      <th></th>\n",
       "      <th>palavra</th>\n",
       "      <th>video_url</th>\n",
       "      <th>filename</th>\n",
       "      <th>classe_gramatical</th>\n",
       "      <th>assunto</th>\n",
       "      <th>configuracao_mao</th>\n",
       "      <th>CM</th>\n",
       "      <th>downloaded</th>\n",
       "    </tr>\n",
       "  </thead>\n",
       "  <tbody>\n",
       "  </tbody>\n",
       "</table>\n",
       "</div>"
      ],
      "text/plain": [
       "Empty DataFrame\n",
       "Columns: [palavra, video_url, filename, classe_gramatical, assunto, configuracao_mao, CM, downloaded]\n",
       "Index: []"
      ]
     },
     "execution_count": 224,
     "metadata": {},
     "output_type": "execute_result"
    }
   ],
   "source": [
    "csv[csv['downloaded'] != 'ok']"
   ]
  },
  {
   "cell_type": "code",
   "execution_count": 226,
   "metadata": {},
   "outputs": [],
   "source": [
    "files = getAllFiles(\"/home/fabiana/Desktop/projeto-final-src/Crawler/Videos\")\n",
    "len(files)"
   ]
  }
 ],
 "metadata": {
  "kernelspec": {
   "display_name": "Python 3",
   "language": "python",
   "name": "python3"
  },
  "language_info": {
   "codemirror_mode": {
    "name": "ipython",
    "version": 3
   },
   "file_extension": ".py",
   "mimetype": "text/x-python",
   "name": "python",
   "nbconvert_exporter": "python",
   "pygments_lexer": "ipython3",
   "version": "3.7.4"
  }
 },
 "nbformat": 4,
 "nbformat_minor": 4
}
