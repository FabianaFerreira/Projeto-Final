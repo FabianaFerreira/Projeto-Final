{
 "cells": [
  {
   "cell_type": "code",
   "execution_count": 167,
   "metadata": {},
   "outputs": [],
   "source": [
    "from Extractor import *\n",
    "from glob import glob\n",
    "import pandas as pd\n",
    "import re\n",
    "from tqdm import tqdm"
   ]
  },
  {
   "cell_type": "code",
   "execution_count": 168,
   "metadata": {},
   "outputs": [],
   "source": [
    "seq_length = 40\n",
    "class_limit = None\n",
    "proc_csv = pd.read_csv('../Vis/processedAnnotations.csv')\n",
    "path = '/home/fabiana/Desktop/projeto-final-src/Crawler/Videos/'"
   ]
  },
  {
   "cell_type": "code",
   "execution_count": 169,
   "metadata": {},
   "outputs": [],
   "source": [
    "proc_csv.drop(['video_url', 'filename', 'configuracao_mao'], axis=1, inplace=True)\n",
    "proc_csv['path_10'] = proc_csv['palavra'].map(lambda x:f\"{path}{str(x)[0]}/{str(x)}/DEResult_10\")\n",
    "proc_csv['path_5'] = proc_csv['palavra'].map(lambda x:f\"{path}{str(x)[0]}/{str(x)}/DEResult_5\")\n",
    "proc_csv['path_15'] = proc_csv['palavra'].map(lambda x:f\"{path}{str(x)[0]}/{str(x)}/DEResult_15\")"
   ]
  },
  {
   "cell_type": "code",
   "execution_count": 170,
   "metadata": {},
   "outputs": [],
   "source": [
    "def getFrameNumber(path):\n",
    "    return int(re.search(r\".*\\/frame(\\d+)\\.jpg\", path).group(1))"
   ]
  },
  {
   "cell_type": "code",
   "execution_count": 171,
   "metadata": {},
   "outputs": [],
   "source": [
    "def getFiles(path):\n",
    "    files = list(glob(path + \"/*.jpg\"))\n",
    "    files.sort(key=getFrameNumber)\n",
    "    return files"
   ]
  },
  {
   "cell_type": "code",
   "execution_count": 172,
   "metadata": {},
   "outputs": [],
   "source": [
    "proc_csv['files_list_10'] = proc_csv['path_10'].map(getFiles)\n",
    "proc_csv['files_list_5'] = proc_csv['path_5'].map(getFiles)\n",
    "proc_csv['files_list_15'] = proc_csv['path_15'].map(getFiles)"
   ]
  },
  {
   "cell_type": "code",
   "execution_count": 178,
   "metadata": {},
   "outputs": [],
   "source": [
    "proc_csv.drop(['path_10', 'path_15', 'path_5'], axis=1, inplace=True)"
   ]
  },
  {
   "cell_type": "code",
   "execution_count": 180,
   "metadata": {},
   "outputs": [],
   "source": [
    "proc_csv.to_pickle('dataset_with_file_list.pkl')"
   ]
  },
  {
   "cell_type": "code",
   "execution_count": 152,
   "metadata": {},
   "outputs": [],
   "source": [
    "model = Extractor()"
   ]
  },
  {
   "cell_type": "code",
   "execution_count": 153,
   "metadata": {},
   "outputs": [],
   "source": [
    "def buildSequence(frameList):\n",
    "    sequence = []\n",
    "    for image in frameList:\n",
    "        features = model.extract(image)\n",
    "        sequence.append(features)\n",
    "    return np.array(sequence)"
   ]
  },
  {
   "cell_type": "code",
   "execution_count": 154,
   "metadata": {},
   "outputs": [],
   "source": [
    "proc_csv.set_index('palavra', inplace=True)\n",
    "folder = '/home/fabiana/Desktop/projeto-final-src/Classifier/InceptionV3_Features/'\n",
    "sample = proc_csv.head()"
   ]
  },
  {
   "cell_type": "code",
   "execution_count": 106,
   "metadata": {},
   "outputs": [
    {
     "name": "stdout",
     "output_type": "stream",
     "text": [
      "A\n",
      "ABACATE\n",
      "ABACAXI\n",
      "ABAFAR\n",
      "ABAIXO\n",
      "CPU times: user 30.8 s, sys: 23.4 s, total: 54.2 s\n",
      "Wall time: 17.2 s\n"
     ]
    }
   ],
   "source": [
    "%%time\n",
    "for palavra, frameList in tqdm(proc_csv['files_list'].iteritems(), total=len(proc_csv)):\n",
    "    seq = buildSequence(frameList)\n",
    "    np.save(folder + palavra, sequence)"
   ]
  }
 ],
 "metadata": {
  "kernelspec": {
   "display_name": "Python 3",
   "language": "python",
   "name": "python3"
  },
  "language_info": {
   "codemirror_mode": {
    "name": "ipython",
    "version": 3
   },
   "file_extension": ".py",
   "mimetype": "text/x-python",
   "name": "python",
   "nbconvert_exporter": "python",
   "pygments_lexer": "ipython3",
   "version": "3.7.4"
  }
 },
 "nbformat": 4,
 "nbformat_minor": 4
}
