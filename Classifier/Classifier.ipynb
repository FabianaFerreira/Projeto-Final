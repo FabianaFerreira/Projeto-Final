{
 "cells": [
  {
   "cell_type": "code",
   "execution_count": 321,
   "metadata": {},
   "outputs": [],
   "source": [
    "from keras.layers import Dense, Flatten, Dropout, ZeroPadding3D\n",
    "from keras.layers.recurrent import LSTM\n",
    "from keras.models import Sequential, load_model\n",
    "from glob import glob\n",
    "import numpy as np\n",
    "import pandas as pd\n",
    "import re\n",
    "from sklearn.model_selection import train_test_split, GridSearchCV, KFold"
   ]
  },
  {
   "cell_type": "code",
   "execution_count": 322,
   "metadata": {},
   "outputs": [],
   "source": [
    "threshold = 40\n",
    "path_cnn = '/home/fabiana/Desktop/projeto-final-src/Classifier/InceptionV3_Features/5'\n",
    "proc_csv = pd.read_csv('../Vis/processedAnnotations.csv')\n",
    "count = proc_csv.groupby('CM').count()['palavra']"
   ]
  },
  {
   "cell_type": "code",
   "execution_count": 323,
   "metadata": {},
   "outputs": [],
   "source": [
    "def replaceClass(cg):\n",
    "    quantity = count[cg]\n",
    "    if (quantity <= threshold):\n",
    "        return 'others'\n",
    "    else: \n",
    "        return cg"
   ]
  },
  {
   "cell_type": "code",
   "execution_count": 324,
   "metadata": {},
   "outputs": [],
   "source": [
    "proc_csv['classe'] = proc_csv['CM'].map(replaceClass)"
   ]
  },
  {
   "cell_type": "code",
   "execution_count": 325,
   "metadata": {},
   "outputs": [],
   "source": [
    "def getWord(word):\n",
    "    return re.search(r\".*\\/(.*)\\.npy\", word).group(1)\n",
    "\n",
    "def getFiles(path):\n",
    "    files = list(glob(path + \"/*.npy\"))\n",
    "    files.sort(key=getFirstLetter)\n",
    "    return files\n",
    "\n",
    "def generateX(path):\n",
    "    X = []\n",
    "    files = getFiles(path)\n",
    "    for file in files:\n",
    "        seq = np.load(file)\n",
    "        X.append(seq)\n",
    "    return X\n",
    "\n",
    "def lstm(self):\n",
    "    \"\"\"Build a simple LSTM network. We pass the extracted features from\n",
    "    our CNN to this model predomenently.\"\"\"\n",
    "    # Model.\n",
    "    model = Sequential()\n",
    "    model.add(LSTM(2048, return_sequences=False,\n",
    "                    input_shape=self.input_shape,\n",
    "                    dropout=0.5))\n",
    "    model.add(Dense(512, activation='relu'))\n",
    "    model.add(Dropout(0.5))\n",
    "    model.add(Dense(self.nb_classes, activation='softmax'))\n",
    "\n",
    "    return model"
   ]
  },
  {
   "cell_type": "code",
   "execution_count": 326,
   "metadata": {},
   "outputs": [],
   "source": [
    "# Loads features\n",
    "X = generateX(path_cnn)\n",
    "y = proc_csv['classe']"
   ]
  },
  {
   "cell_type": "code",
   "execution_count": null,
   "metadata": {},
   "outputs": [],
   "source": [
    "cv = KFold(n_splits=5, shuffle=True)\n",
    "X_train, X_test, y_train, y_test = train_test_split(X, y, test_size=0.33, random_state=42)"
   ]
  },
  {
   "cell_type": "code",
   "execution_count": null,
   "metadata": {},
   "outputs": [],
   "source": [
    "# Use standard fit.\n",
    "# rm.model.fit(\n",
    "#     X,\n",
    "#     y,\n",
    "#     batch_size=batch_size,\n",
    "#     validation_data=(X_test, y_test),\n",
    "#     verbose=1,\n",
    "#     callbacks=[tb, early_stopper, csv_logger],\n",
    "#     epochs=nb_epoch)"
   ]
  }
 ],
 "metadata": {
  "kernelspec": {
   "display_name": "Python 3",
   "language": "python",
   "name": "python3"
  },
  "language_info": {
   "codemirror_mode": {
    "name": "ipython",
    "version": 3
   },
   "file_extension": ".py",
   "mimetype": "text/x-python",
   "name": "python",
   "nbconvert_exporter": "python",
   "pygments_lexer": "ipython3",
   "version": "3.7.4"
  }
 },
 "nbformat": 4,
 "nbformat_minor": 4
}
