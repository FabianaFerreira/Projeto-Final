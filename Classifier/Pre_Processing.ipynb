{
 "cells": [
  {
   "cell_type": "code",
   "execution_count": 16,
   "metadata": {},
   "outputs": [],
   "source": [
    "from Extractor import *\n",
    "from glob import glob\n",
    "import pandas as pd\n",
    "import re\n",
    "from tqdm import tqdm"
   ]
  },
  {
   "cell_type": "code",
   "execution_count": 17,
   "metadata": {},
   "outputs": [],
   "source": [
    "seq_length = 40\n",
    "class_limit = None\n",
    "proc_csv = pd.read_csv('../Annotations/processedAnnotations_no_corrupted_videos.csv')\n",
    "path = '/home/fabiana/Desktop/projeto-final-src/KeyFramesExtraction/Result/'"
   ]
  },
  {
   "cell_type": "code",
   "execution_count": 18,
   "metadata": {},
   "outputs": [],
   "source": [
    "def getFiles(path):\n",
    "    files = list(glob(path + \"/*.jpg\"))\n",
    "    files.sort(key=getFrameNumber)\n",
    "    return files\n",
    "\n",
    "def getFrameNumber(path):\n",
    "    return int(re.search(r\".*\\/frame(\\d+)\\.jpg\", path).group(1))"
   ]
  },
  {
   "cell_type": "code",
   "execution_count": 19,
   "metadata": {},
   "outputs": [],
   "source": [
    "proc_csv.drop(['video_url', 'filename', 'configuracao_mao'], axis=1, inplace=True)\n",
    "proc_csv['path_10'] = proc_csv['palavra'].map(lambda x:f\"{path}10/{str(x)[0]}/{str(x)}\")\n",
    "proc_csv['path_5'] = proc_csv['palavra'].map(lambda x:f\"{path}5/{str(x)[0]}/{str(x)}\")\n",
    "proc_csv['path_15'] = proc_csv['palavra'].map(lambda x:f\"{path}15/{str(x)[0]}/{str(x)}\")"
   ]
  },
  {
   "cell_type": "code",
   "execution_count": 20,
   "metadata": {},
   "outputs": [],
   "source": [
    "proc_csv['files_list_10'] = proc_csv['path_10'].map(getFiles)\n",
    "proc_csv['files_list_5'] = proc_csv['path_5'].map(getFiles)\n",
    "proc_csv['files_list_15'] = proc_csv['path_15'].map(getFiles)"
   ]
  },
  {
   "cell_type": "code",
   "execution_count": 21,
   "metadata": {},
   "outputs": [],
   "source": [
    "proc_csv.drop(['path_10', 'path_15', 'path_5'], axis=1, inplace=True)"
   ]
  },
  {
   "cell_type": "code",
   "execution_count": 44,
   "metadata": {},
   "outputs": [],
   "source": [
    "proc_csv.to_pickle('dataset_with_file_list.pkl')"
   ]
  }
 ],
 "metadata": {
  "kernelspec": {
   "display_name": "Python 3",
   "language": "python",
   "name": "python3"
  },
  "language_info": {
   "codemirror_mode": {
    "name": "ipython",
    "version": 3
   },
   "file_extension": ".py",
   "mimetype": "text/x-python",
   "name": "python",
   "nbconvert_exporter": "python",
   "pygments_lexer": "ipython3",
   "version": "3.7.4"
  }
 },
 "nbformat": 4,
 "nbformat_minor": 4
}
