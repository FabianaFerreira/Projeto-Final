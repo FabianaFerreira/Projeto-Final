{
 "cells": [
  {
   "cell_type": "code",
   "execution_count": 40,
   "metadata": {},
   "outputs": [],
   "source": [
    "from Extractor import *\n",
    "from glob import glob\n",
    "import pandas as pd\n",
    "import re\n",
    "from tqdm import tqdm"
   ]
  },
  {
   "cell_type": "code",
   "execution_count": 41,
   "metadata": {},
   "outputs": [],
   "source": [
    "seq_length = 40\n",
    "class_limit = None\n",
    "proc_csv = pd.read_csv('../Vis/processedAnnotations.csv')\n",
    "path = '/home/fabiana/Desktop/projeto-final-src/Crawler/Videos/'"
   ]
  },
  {
   "cell_type": "code",
   "execution_count": 30,
   "metadata": {},
   "outputs": [],
   "source": [
    "proc_csv.drop(['video_url', 'filename', 'configuracao_mao'], axis=1, inplace=True)\n",
    "proc_csv['path_10'] = proc_csv['palavra'].map(lambda x:f\"{path}{str(x)[0]}/{str(x)}/DEResult_10\")\n",
    "proc_csv['path_5'] = proc_csv['palavra'].map(lambda x:f\"{path}{str(x)[0]}/{str(x)}/DEResult_5\")\n",
    "proc_csv['path_15'] = proc_csv['palavra'].map(lambda x:f\"{path}{str(x)[0]}/{str(x)}/DEResult_15\")"
   ]
  },
  {
   "cell_type": "code",
   "execution_count": 31,
   "metadata": {},
   "outputs": [],
   "source": [
    "def getFrameNumber(path):\n",
    "    return int(re.search(r\".*\\/frame(\\d+)\\.jpg\", path).group(1))"
   ]
  },
  {
   "cell_type": "code",
   "execution_count": 32,
   "metadata": {},
   "outputs": [],
   "source": [
    "def getFiles(path):\n",
    "    files = list(glob(path + \"/*.jpg\"))\n",
    "    files.sort(key=getFrameNumber)\n",
    "    return files"
   ]
  },
  {
   "cell_type": "code",
   "execution_count": 21,
   "metadata": {},
   "outputs": [],
   "source": [
    "def getNPFiles(path):\n",
    "    files = list(glob(path + \"/*.npy\"))\n",
    "    return files"
   ]
  },
  {
   "cell_type": "code",
   "execution_count": 33,
   "metadata": {},
   "outputs": [],
   "source": [
    "path_cnn = '/home/fabiana/Desktop/projeto-final-src/Classifier/InceptionV3_Features/5'"
   ]
  },
  {
   "cell_type": "code",
   "execution_count": 35,
   "metadata": {},
   "outputs": [],
   "source": [
    "proc_csv['files_list_10'] = proc_csv['path_10'].map(getFiles)\n",
    "proc_csv['files_list_5'] = proc_csv['path_5'].map(getFiles)\n",
    "proc_csv['files_list_15'] = proc_csv['path_15'].map(getFiles)"
   ]
  },
  {
   "cell_type": "code",
   "execution_count": 36,
   "metadata": {},
   "outputs": [],
   "source": [
    "proc_csv.drop(['path_10', 'path_15', 'path_5'], axis=1, inplace=True)"
   ]
  },
  {
   "cell_type": "code",
   "execution_count": 38,
   "metadata": {},
   "outputs": [
    {
     "data": {
      "text/plain": [
       "(5738, 7)"
      ]
     },
     "execution_count": 38,
     "metadata": {},
     "output_type": "execute_result"
    }
   ],
   "source": [
    "proc_csv.shape"
   ]
  },
  {
   "cell_type": "code",
   "execution_count": 39,
   "metadata": {},
   "outputs": [],
   "source": [
    "proc_csv.to_pickle('dataset_with_file_list.pkl')"
   ]
  },
  {
   "cell_type": "code",
   "execution_count": 152,
   "metadata": {},
   "outputs": [],
   "source": [
    "model = Extractor()"
   ]
  },
  {
   "cell_type": "code",
   "execution_count": 153,
   "metadata": {},
   "outputs": [],
   "source": [
    "def buildSequence(frameList):\n",
    "    sequence = []\n",
    "    for image in frameList:\n",
    "        features = model.extract(image)\n",
    "        sequence.append(features)\n",
    "    return np.array(sequence)"
   ]
  },
  {
   "cell_type": "code",
   "execution_count": 154,
   "metadata": {},
   "outputs": [],
   "source": [
    "proc_csv.set_index('palavra', inplace=True)\n",
    "folder = '/home/fabiana/Desktop/projeto-final-src/Classifier/InceptionV3_Features/'\n",
    "sample = proc_csv.head()"
   ]
  },
  {
   "cell_type": "code",
   "execution_count": 106,
   "metadata": {},
   "outputs": [
    {
     "name": "stdout",
     "output_type": "stream",
     "text": [
      "A\n",
      "ABACATE\n",
      "ABACAXI\n",
      "ABAFAR\n",
      "ABAIXO\n",
      "CPU times: user 30.8 s, sys: 23.4 s, total: 54.2 s\n",
      "Wall time: 17.2 s\n"
     ]
    }
   ],
   "source": [
    "%%time\n",
    "for palavra, frameList in tqdm(proc_csv['files_list'].iteritems(), total=len(proc_csv)):\n",
    "    seq = buildSequence(frameList)\n",
    "    np.save(folder + palavra, sequence)"
   ]
  },
  {
   "cell_type": "code",
   "execution_count": 4,
   "metadata": {},
   "outputs": [],
   "source": [
    "a = pd.read_pickle('dataset_with_file_list.pkl')"
   ]
  },
  {
   "cell_type": "code",
   "execution_count": 5,
   "metadata": {},
   "outputs": [
    {
     "data": {
      "text/html": [
       "<div>\n",
       "<style scoped>\n",
       "    .dataframe tbody tr th:only-of-type {\n",
       "        vertical-align: middle;\n",
       "    }\n",
       "\n",
       "    .dataframe tbody tr th {\n",
       "        vertical-align: top;\n",
       "    }\n",
       "\n",
       "    .dataframe thead th {\n",
       "        text-align: right;\n",
       "    }\n",
       "</style>\n",
       "<table border=\"1\" class=\"dataframe\">\n",
       "  <thead>\n",
       "    <tr style=\"text-align: right;\">\n",
       "      <th></th>\n",
       "      <th>palavra</th>\n",
       "      <th>classe_gramatical</th>\n",
       "      <th>assunto</th>\n",
       "      <th>CM</th>\n",
       "      <th>files_list_10</th>\n",
       "      <th>files_list_5</th>\n",
       "      <th>files_list_15</th>\n",
       "    </tr>\n",
       "  </thead>\n",
       "  <tbody>\n",
       "    <tr>\n",
       "      <th>0</th>\n",
       "      <td>A</td>\n",
       "      <td>SUBSTANTIVO</td>\n",
       "      <td>NENHUM</td>\n",
       "      <td>cg01</td>\n",
       "      <td>[]</td>\n",
       "      <td>[]</td>\n",
       "      <td>[]</td>\n",
       "    </tr>\n",
       "    <tr>\n",
       "      <th>1</th>\n",
       "      <td>ABACATE</td>\n",
       "      <td>SUBSTANTIVO</td>\n",
       "      <td>FRUTA</td>\n",
       "      <td>cg53a</td>\n",
       "      <td>[]</td>\n",
       "      <td>[]</td>\n",
       "      <td>[]</td>\n",
       "    </tr>\n",
       "    <tr>\n",
       "      <th>2</th>\n",
       "      <td>ABACAXI</td>\n",
       "      <td>SUBSTANTIVO</td>\n",
       "      <td>FRUTA</td>\n",
       "      <td>cg47</td>\n",
       "      <td>[]</td>\n",
       "      <td>[]</td>\n",
       "      <td>[]</td>\n",
       "    </tr>\n",
       "    <tr>\n",
       "      <th>3</th>\n",
       "      <td>ABAFAR</td>\n",
       "      <td>VERBO</td>\n",
       "      <td>NENHUM</td>\n",
       "      <td>cg07</td>\n",
       "      <td>[]</td>\n",
       "      <td>[]</td>\n",
       "      <td>[]</td>\n",
       "    </tr>\n",
       "    <tr>\n",
       "      <th>4</th>\n",
       "      <td>ABAIXO</td>\n",
       "      <td>ADV.</td>\n",
       "      <td>NENHUM</td>\n",
       "      <td>cg62</td>\n",
       "      <td>[]</td>\n",
       "      <td>[]</td>\n",
       "      <td>[]</td>\n",
       "    </tr>\n",
       "    <tr>\n",
       "      <th>...</th>\n",
       "      <td>...</td>\n",
       "      <td>...</td>\n",
       "      <td>...</td>\n",
       "      <td>...</td>\n",
       "      <td>...</td>\n",
       "      <td>...</td>\n",
       "      <td>...</td>\n",
       "    </tr>\n",
       "    <tr>\n",
       "      <th>5733</th>\n",
       "      <td>ZIGUEZAGUEAR</td>\n",
       "      <td>VERBO</td>\n",
       "      <td>NENHUM</td>\n",
       "      <td>cg62</td>\n",
       "      <td>[]</td>\n",
       "      <td>[]</td>\n",
       "      <td>[]</td>\n",
       "    </tr>\n",
       "    <tr>\n",
       "      <th>5734</th>\n",
       "      <td>ZIPER</td>\n",
       "      <td>SUBSTANTIVO</td>\n",
       "      <td>VESTUÁRIO/COMPLEMENTOS</td>\n",
       "      <td>cg05</td>\n",
       "      <td>[]</td>\n",
       "      <td>[]</td>\n",
       "      <td>[]</td>\n",
       "    </tr>\n",
       "    <tr>\n",
       "      <th>5735</th>\n",
       "      <td>ZOMBAR</td>\n",
       "      <td>VERBO</td>\n",
       "      <td>NENHUM</td>\n",
       "      <td>cg08a</td>\n",
       "      <td>[]</td>\n",
       "      <td>[]</td>\n",
       "      <td>[]</td>\n",
       "    </tr>\n",
       "    <tr>\n",
       "      <th>5736</th>\n",
       "      <td>ZOOLOGICO</td>\n",
       "      <td>ADJETIVO</td>\n",
       "      <td>NENHUM</td>\n",
       "      <td>cg14</td>\n",
       "      <td>[]</td>\n",
       "      <td>[]</td>\n",
       "      <td>[]</td>\n",
       "    </tr>\n",
       "    <tr>\n",
       "      <th>5737</th>\n",
       "      <td>ZUM</td>\n",
       "      <td>SUBSTANTIVO</td>\n",
       "      <td>NENHUM</td>\n",
       "      <td>cg53a</td>\n",
       "      <td>[]</td>\n",
       "      <td>[]</td>\n",
       "      <td>[]</td>\n",
       "    </tr>\n",
       "  </tbody>\n",
       "</table>\n",
       "<p>5738 rows × 7 columns</p>\n",
       "</div>"
      ],
      "text/plain": [
       "           palavra classe_gramatical                 assunto     CM  \\\n",
       "0                A       SUBSTANTIVO                  NENHUM   cg01   \n",
       "1          ABACATE       SUBSTANTIVO                   FRUTA  cg53a   \n",
       "2          ABACAXI       SUBSTANTIVO                   FRUTA   cg47   \n",
       "3           ABAFAR             VERBO                  NENHUM   cg07   \n",
       "4           ABAIXO              ADV.                  NENHUM   cg62   \n",
       "...            ...               ...                     ...    ...   \n",
       "5733  ZIGUEZAGUEAR             VERBO                  NENHUM   cg62   \n",
       "5734         ZIPER       SUBSTANTIVO  VESTUÁRIO/COMPLEMENTOS   cg05   \n",
       "5735        ZOMBAR             VERBO                  NENHUM  cg08a   \n",
       "5736     ZOOLOGICO          ADJETIVO                  NENHUM   cg14   \n",
       "5737           ZUM       SUBSTANTIVO                  NENHUM  cg53a   \n",
       "\n",
       "     files_list_10 files_list_5 files_list_15  \n",
       "0               []           []            []  \n",
       "1               []           []            []  \n",
       "2               []           []            []  \n",
       "3               []           []            []  \n",
       "4               []           []            []  \n",
       "...            ...          ...           ...  \n",
       "5733            []           []            []  \n",
       "5734            []           []            []  \n",
       "5735            []           []            []  \n",
       "5736            []           []            []  \n",
       "5737            []           []            []  \n",
       "\n",
       "[5738 rows x 7 columns]"
      ]
     },
     "execution_count": 5,
     "metadata": {},
     "output_type": "execute_result"
    }
   ],
   "source": [
    "a"
   ]
  },
  {
   "cell_type": "code",
   "execution_count": null,
   "metadata": {},
   "outputs": [],
   "source": []
  }
 ],
 "metadata": {
  "kernelspec": {
   "display_name": "Python 3",
   "language": "python",
   "name": "python3"
  },
  "language_info": {
   "codemirror_mode": {
    "name": "ipython",
    "version": 3
   },
   "file_extension": ".py",
   "mimetype": "text/x-python",
   "name": "python",
   "nbconvert_exporter": "python",
   "pygments_lexer": "ipython3",
   "version": "3.7.4"
  }
 },
 "nbformat": 4,
 "nbformat_minor": 4
}
