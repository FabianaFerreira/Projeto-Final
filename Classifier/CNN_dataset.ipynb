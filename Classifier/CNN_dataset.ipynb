{
 "cells": [
  {
   "cell_type": "code",
   "execution_count": 154,
   "metadata": {},
   "outputs": [],
   "source": [
    "from keras.preprocessing import image\n",
    "from sklearn.model_selection import train_test_split\n",
    "from keras.utils import to_categorical\n",
    "import pandas as pd\n",
    "import numpy as np\n",
    "from glob import glob\n",
    "import re"
   ]
  },
  {
   "cell_type": "code",
   "execution_count": 155,
   "metadata": {},
   "outputs": [],
   "source": [
    "path = \"/home/fabiana/Desktop/projeto-final-src/Crawler/Videos/\"\n",
    "df = pd.read_csv('../Annotations/processedAnnotations_no_corrupted_videos.csv')\n",
    "count = df.groupby(['CM']).count()['palavra']\n",
    "threshold = 20\n",
    "frames = 10\n",
    "cnn_dataset_path = \"/home/fabiana/Desktop/projeto-final-src/Classifier/datasets/CNN\""
   ]
  },
  {
   "cell_type": "code",
   "execution_count": 156,
   "metadata": {},
   "outputs": [],
   "source": [
    "def getFrameNumber(path):\n",
    "    return int(re.search(r\".*\\/frame(\\d+)\\.jpg\", path).group(1))\n",
    "\n",
    "def getFiles(path):\n",
    "    files = list(glob(path + \"/*.jpg\"))\n",
    "    files.sort(key=getFrameNumber)\n",
    "    return files"
   ]
  },
  {
   "cell_type": "code",
   "execution_count": 157,
   "metadata": {},
   "outputs": [],
   "source": [
    "def replaceClass(cg):\n",
    "    quantity = count[cg]\n",
    "    if (quantity <= threshold):\n",
    "        return 'others'\n",
    "    else: \n",
    "        return cg\n",
    "    \n",
    "df['classe'] = df['CM'].map(replaceClass)\n",
    "df['classe'] = df['classe'].astype('category')"
   ]
  },
  {
   "cell_type": "code",
   "execution_count": 158,
   "metadata": {},
   "outputs": [],
   "source": [
    "df = df[['palavra', 'classe']]"
   ]
  },
  {
   "cell_type": "code",
   "execution_count": 159,
   "metadata": {},
   "outputs": [],
   "source": [
    "df['first_letter'] = df['palavra'].map(lambda x: x[0])"
   ]
  },
  {
   "cell_type": "code",
   "execution_count": 160,
   "metadata": {},
   "outputs": [],
   "source": [
    "df['folder_path'] = path + df['first_letter'] + '/' + df['palavra'] + f'/DEResult_{frames}/'"
   ]
  },
  {
   "cell_type": "code",
   "execution_count": 161,
   "metadata": {},
   "outputs": [],
   "source": [
    "df['files_list'] = df['folder_path'].map(getFiles)"
   ]
  },
  {
   "cell_type": "code",
   "execution_count": 162,
   "metadata": {},
   "outputs": [
    {
     "data": {
      "text/html": [
       "<div>\n",
       "<style scoped>\n",
       "    .dataframe tbody tr th:only-of-type {\n",
       "        vertical-align: middle;\n",
       "    }\n",
       "\n",
       "    .dataframe tbody tr th {\n",
       "        vertical-align: top;\n",
       "    }\n",
       "\n",
       "    .dataframe thead th {\n",
       "        text-align: right;\n",
       "    }\n",
       "</style>\n",
       "<table border=\"1\" class=\"dataframe\">\n",
       "  <thead>\n",
       "    <tr style=\"text-align: right;\">\n",
       "      <th></th>\n",
       "      <th>palavra</th>\n",
       "      <th>classe</th>\n",
       "      <th>first_letter</th>\n",
       "      <th>folder_path</th>\n",
       "      <th>files_list</th>\n",
       "    </tr>\n",
       "  </thead>\n",
       "  <tbody>\n",
       "    <tr>\n",
       "      <th>0</th>\n",
       "      <td>A</td>\n",
       "      <td>cg01</td>\n",
       "      <td>A</td>\n",
       "      <td>/home/fabiana/Desktop/projeto-final-src/Crawle...</td>\n",
       "      <td>[/home/fabiana/Desktop/projeto-final-src/Crawl...</td>\n",
       "    </tr>\n",
       "    <tr>\n",
       "      <th>1</th>\n",
       "      <td>ABACATE</td>\n",
       "      <td>cg53a</td>\n",
       "      <td>A</td>\n",
       "      <td>/home/fabiana/Desktop/projeto-final-src/Crawle...</td>\n",
       "      <td>[/home/fabiana/Desktop/projeto-final-src/Crawl...</td>\n",
       "    </tr>\n",
       "    <tr>\n",
       "      <th>2</th>\n",
       "      <td>ABACAXI</td>\n",
       "      <td>cg47</td>\n",
       "      <td>A</td>\n",
       "      <td>/home/fabiana/Desktop/projeto-final-src/Crawle...</td>\n",
       "      <td>[/home/fabiana/Desktop/projeto-final-src/Crawl...</td>\n",
       "    </tr>\n",
       "    <tr>\n",
       "      <th>3</th>\n",
       "      <td>ABAFAR</td>\n",
       "      <td>cg07</td>\n",
       "      <td>A</td>\n",
       "      <td>/home/fabiana/Desktop/projeto-final-src/Crawle...</td>\n",
       "      <td>[/home/fabiana/Desktop/projeto-final-src/Crawl...</td>\n",
       "    </tr>\n",
       "    <tr>\n",
       "      <th>4</th>\n",
       "      <td>ABAIXO</td>\n",
       "      <td>cg62</td>\n",
       "      <td>A</td>\n",
       "      <td>/home/fabiana/Desktop/projeto-final-src/Crawle...</td>\n",
       "      <td>[/home/fabiana/Desktop/projeto-final-src/Crawl...</td>\n",
       "    </tr>\n",
       "  </tbody>\n",
       "</table>\n",
       "</div>"
      ],
      "text/plain": [
       "   palavra classe first_letter  \\\n",
       "0        A   cg01            A   \n",
       "1  ABACATE  cg53a            A   \n",
       "2  ABACAXI   cg47            A   \n",
       "3   ABAFAR   cg07            A   \n",
       "4   ABAIXO   cg62            A   \n",
       "\n",
       "                                         folder_path  \\\n",
       "0  /home/fabiana/Desktop/projeto-final-src/Crawle...   \n",
       "1  /home/fabiana/Desktop/projeto-final-src/Crawle...   \n",
       "2  /home/fabiana/Desktop/projeto-final-src/Crawle...   \n",
       "3  /home/fabiana/Desktop/projeto-final-src/Crawle...   \n",
       "4  /home/fabiana/Desktop/projeto-final-src/Crawle...   \n",
       "\n",
       "                                          files_list  \n",
       "0  [/home/fabiana/Desktop/projeto-final-src/Crawl...  \n",
       "1  [/home/fabiana/Desktop/projeto-final-src/Crawl...  \n",
       "2  [/home/fabiana/Desktop/projeto-final-src/Crawl...  \n",
       "3  [/home/fabiana/Desktop/projeto-final-src/Crawl...  \n",
       "4  [/home/fabiana/Desktop/projeto-final-src/Crawl...  "
      ]
     },
     "execution_count": 162,
     "metadata": {},
     "output_type": "execute_result"
    }
   ],
   "source": [
    "df.head()"
   ]
  },
  {
   "cell_type": "code",
   "execution_count": 163,
   "metadata": {},
   "outputs": [],
   "source": [
    "def get_images(images_list, img_size):\n",
    "    frames_array = np.zeros((len(images_list), img_size[0], img_size[1]))\n",
    "    for i, image_path in enumerate(images_list):\n",
    "        img = image.load_img(image_path, color_mode='grayscale', target_size=img_size)\n",
    "        img = np.squeeze(image.img_to_array(img))\n",
    "        img /= 127.5\n",
    "        img -= 1.\n",
    "        frames_array[i,:,:] = img\n",
    "    return frames_array"
   ]
  },
  {
   "cell_type": "code",
   "execution_count": 164,
   "metadata": {},
   "outputs": [],
   "source": [
    "y = to_categorical(df['classe'].cat.codes.values)"
   ]
  },
  {
   "cell_type": "code",
   "execution_count": 172,
   "metadata": {},
   "outputs": [],
   "source": [
    "X_train, X_test, y_train, y_test = train_test_split(df['files_list'], y, stratify=y,\n",
    "                                                    test_size=0.2, random_state=0)"
   ]
  },
  {
   "cell_type": "code",
   "execution_count": 173,
   "metadata": {},
   "outputs": [],
   "source": [
    "y_train = np.repeat(y_train, X_train.map(len), axis=0)"
   ]
  },
  {
   "cell_type": "code",
   "execution_count": 174,
   "metadata": {},
   "outputs": [],
   "source": [
    "y_test = np.repeat(y_test, X_test.map(len), axis=0)"
   ]
  },
  {
   "cell_type": "code",
   "execution_count": 175,
   "metadata": {},
   "outputs": [],
   "source": [
    "X_test_sum = np.array(X_test.sum())"
   ]
  },
  {
   "cell_type": "code",
   "execution_count": 176,
   "metadata": {},
   "outputs": [],
   "source": [
    "X_train_sum = np.array(X_train.sum())"
   ]
  },
  {
   "cell_type": "code",
   "execution_count": 177,
   "metadata": {},
   "outputs": [],
   "source": [
    "np.save(cnn_dataset_path + '/X_train.npy', X_train_sum)\n",
    "np.save(cnn_dataset_path + '/X_test.npy', X_test_sum)\n",
    "np.save(cnn_dataset_path + '/y_train.npy', y_train)\n",
    "np.save(cnn_dataset_path + '/y_test.npy', y_test)"
   ]
  },
  {
   "cell_type": "code",
   "execution_count": 12,
   "metadata": {},
   "outputs": [
    {
     "name": "stderr",
     "output_type": "stream",
     "text": [
      " 47%|████▋     | 2694/5714 [08:48<12:08,  4.14it/s]"
     ]
    },
    {
     "ename": "KeyboardInterrupt",
     "evalue": "",
     "output_type": "error",
     "traceback": [
      "\u001b[0;31m---------------------------------------------------------------------------\u001b[0m",
      "\u001b[0;31mKeyboardInterrupt\u001b[0m                         Traceback (most recent call last)",
      "\u001b[0;32m<ipython-input-12-5d4f64da4179>\u001b[0m in \u001b[0;36m<module>\u001b[0;34m\u001b[0m\n\u001b[1;32m      2\u001b[0m \u001b[0mX\u001b[0m \u001b[0;34m=\u001b[0m \u001b[0;34m[\u001b[0m\u001b[0;34m]\u001b[0m\u001b[0;34m\u001b[0m\u001b[0;34m\u001b[0m\u001b[0m\n\u001b[1;32m      3\u001b[0m \u001b[0;32mfor\u001b[0m \u001b[0mimages_list\u001b[0m \u001b[0;32min\u001b[0m \u001b[0mtqdm\u001b[0m\u001b[0;34m(\u001b[0m\u001b[0mdf\u001b[0m\u001b[0;34m[\u001b[0m\u001b[0;34m'files_list'\u001b[0m\u001b[0;34m]\u001b[0m\u001b[0;34m.\u001b[0m\u001b[0mvalues\u001b[0m\u001b[0;34m)\u001b[0m\u001b[0;34m:\u001b[0m\u001b[0;34m\u001b[0m\u001b[0;34m\u001b[0m\u001b[0m\n\u001b[0;32m----> 4\u001b[0;31m     \u001b[0mframes_array\u001b[0m \u001b[0;34m=\u001b[0m \u001b[0mget_images\u001b[0m\u001b[0;34m(\u001b[0m\u001b[0mimages_list\u001b[0m\u001b[0;34m,\u001b[0m \u001b[0mimg_size\u001b[0m\u001b[0;34m=\u001b[0m\u001b[0;34m(\u001b[0m\u001b[0;36m80\u001b[0m\u001b[0;34m,\u001b[0m \u001b[0;36m100\u001b[0m\u001b[0;34m)\u001b[0m\u001b[0;34m)\u001b[0m\u001b[0;34m\u001b[0m\u001b[0;34m\u001b[0m\u001b[0m\n\u001b[0m\u001b[1;32m      5\u001b[0m     \u001b[0mX\u001b[0m\u001b[0;34m.\u001b[0m\u001b[0mappend\u001b[0m\u001b[0;34m(\u001b[0m\u001b[0mnp\u001b[0m\u001b[0;34m.\u001b[0m\u001b[0mexpand_dims\u001b[0m\u001b[0;34m(\u001b[0m\u001b[0mframes_array\u001b[0m\u001b[0;34m,\u001b[0m \u001b[0maxis\u001b[0m\u001b[0;34m=\u001b[0m\u001b[0;36m0\u001b[0m\u001b[0;34m)\u001b[0m\u001b[0;34m)\u001b[0m\u001b[0;34m\u001b[0m\u001b[0;34m\u001b[0m\u001b[0m\n\u001b[1;32m      6\u001b[0m \u001b[0;34m\u001b[0m\u001b[0m\n",
      "\u001b[0;32m<ipython-input-10-0188a659a8f6>\u001b[0m in \u001b[0;36mget_images\u001b[0;34m(images_list, img_size)\u001b[0m\n\u001b[1;32m      2\u001b[0m     \u001b[0mframes_array\u001b[0m \u001b[0;34m=\u001b[0m \u001b[0mnp\u001b[0m\u001b[0;34m.\u001b[0m\u001b[0mzeros\u001b[0m\u001b[0;34m(\u001b[0m\u001b[0;34m(\u001b[0m\u001b[0mlen\u001b[0m\u001b[0;34m(\u001b[0m\u001b[0mimages_list\u001b[0m\u001b[0;34m)\u001b[0m\u001b[0;34m,\u001b[0m \u001b[0mimg_size\u001b[0m\u001b[0;34m[\u001b[0m\u001b[0;36m0\u001b[0m\u001b[0;34m]\u001b[0m\u001b[0;34m,\u001b[0m \u001b[0mimg_size\u001b[0m\u001b[0;34m[\u001b[0m\u001b[0;36m1\u001b[0m\u001b[0;34m]\u001b[0m\u001b[0;34m)\u001b[0m\u001b[0;34m)\u001b[0m\u001b[0;34m\u001b[0m\u001b[0;34m\u001b[0m\u001b[0m\n\u001b[1;32m      3\u001b[0m     \u001b[0;32mfor\u001b[0m \u001b[0mi\u001b[0m\u001b[0;34m,\u001b[0m \u001b[0mimage_path\u001b[0m \u001b[0;32min\u001b[0m \u001b[0menumerate\u001b[0m\u001b[0;34m(\u001b[0m\u001b[0mimages_list\u001b[0m\u001b[0;34m)\u001b[0m\u001b[0;34m:\u001b[0m\u001b[0;34m\u001b[0m\u001b[0;34m\u001b[0m\u001b[0m\n\u001b[0;32m----> 4\u001b[0;31m         \u001b[0mimg\u001b[0m \u001b[0;34m=\u001b[0m \u001b[0mimage\u001b[0m\u001b[0;34m.\u001b[0m\u001b[0mload_img\u001b[0m\u001b[0;34m(\u001b[0m\u001b[0mimage_path\u001b[0m\u001b[0;34m,\u001b[0m \u001b[0mcolor_mode\u001b[0m\u001b[0;34m=\u001b[0m\u001b[0;34m'grayscale'\u001b[0m\u001b[0;34m,\u001b[0m \u001b[0mtarget_size\u001b[0m\u001b[0;34m=\u001b[0m\u001b[0mimg_size\u001b[0m\u001b[0;34m)\u001b[0m\u001b[0;34m\u001b[0m\u001b[0;34m\u001b[0m\u001b[0m\n\u001b[0m\u001b[1;32m      5\u001b[0m         \u001b[0mimg\u001b[0m \u001b[0;34m=\u001b[0m \u001b[0mnp\u001b[0m\u001b[0;34m.\u001b[0m\u001b[0msqueeze\u001b[0m\u001b[0;34m(\u001b[0m\u001b[0mimage\u001b[0m\u001b[0;34m.\u001b[0m\u001b[0mimg_to_array\u001b[0m\u001b[0;34m(\u001b[0m\u001b[0mimg\u001b[0m\u001b[0;34m)\u001b[0m\u001b[0;34m)\u001b[0m\u001b[0;34m\u001b[0m\u001b[0;34m\u001b[0m\u001b[0m\n\u001b[1;32m      6\u001b[0m         \u001b[0mimg\u001b[0m \u001b[0;34m/=\u001b[0m \u001b[0;36m127.5\u001b[0m\u001b[0;34m\u001b[0m\u001b[0;34m\u001b[0m\u001b[0m\n",
      "\u001b[0;32m~/miniconda3/envs/opencv/lib/python3.7/site-packages/keras_preprocessing/image/utils.py\u001b[0m in \u001b[0;36mload_img\u001b[0;34m(path, grayscale, color_mode, target_size, interpolation)\u001b[0m\n\u001b[1;32m    108\u001b[0m         raise ImportError('Could not import PIL.Image. '\n\u001b[1;32m    109\u001b[0m                           'The use of `load_img` requires PIL.')\n\u001b[0;32m--> 110\u001b[0;31m     \u001b[0mimg\u001b[0m \u001b[0;34m=\u001b[0m \u001b[0mpil_image\u001b[0m\u001b[0;34m.\u001b[0m\u001b[0mopen\u001b[0m\u001b[0;34m(\u001b[0m\u001b[0mpath\u001b[0m\u001b[0;34m)\u001b[0m\u001b[0;34m\u001b[0m\u001b[0;34m\u001b[0m\u001b[0m\n\u001b[0m\u001b[1;32m    111\u001b[0m     \u001b[0;32mif\u001b[0m \u001b[0mcolor_mode\u001b[0m \u001b[0;34m==\u001b[0m \u001b[0;34m'grayscale'\u001b[0m\u001b[0;34m:\u001b[0m\u001b[0;34m\u001b[0m\u001b[0;34m\u001b[0m\u001b[0m\n\u001b[1;32m    112\u001b[0m         \u001b[0;32mif\u001b[0m \u001b[0mimg\u001b[0m\u001b[0;34m.\u001b[0m\u001b[0mmode\u001b[0m \u001b[0;34m!=\u001b[0m \u001b[0;34m'L'\u001b[0m\u001b[0;34m:\u001b[0m\u001b[0;34m\u001b[0m\u001b[0;34m\u001b[0m\u001b[0m\n",
      "\u001b[0;32m~/miniconda3/envs/opencv/lib/python3.7/site-packages/PIL/Image.py\u001b[0m in \u001b[0;36mopen\u001b[0;34m(fp, mode)\u001b[0m\n\u001b[1;32m   2773\u001b[0m         \u001b[0mexclusive_fp\u001b[0m \u001b[0;34m=\u001b[0m \u001b[0;32mTrue\u001b[0m\u001b[0;34m\u001b[0m\u001b[0;34m\u001b[0m\u001b[0m\n\u001b[1;32m   2774\u001b[0m \u001b[0;34m\u001b[0m\u001b[0m\n\u001b[0;32m-> 2775\u001b[0;31m     \u001b[0mprefix\u001b[0m \u001b[0;34m=\u001b[0m \u001b[0mfp\u001b[0m\u001b[0;34m.\u001b[0m\u001b[0mread\u001b[0m\u001b[0;34m(\u001b[0m\u001b[0;36m16\u001b[0m\u001b[0;34m)\u001b[0m\u001b[0;34m\u001b[0m\u001b[0;34m\u001b[0m\u001b[0m\n\u001b[0m\u001b[1;32m   2776\u001b[0m \u001b[0;34m\u001b[0m\u001b[0m\n\u001b[1;32m   2777\u001b[0m     \u001b[0mpreinit\u001b[0m\u001b[0;34m(\u001b[0m\u001b[0;34m)\u001b[0m\u001b[0;34m\u001b[0m\u001b[0;34m\u001b[0m\u001b[0m\n",
      "\u001b[0;31mKeyboardInterrupt\u001b[0m: "
     ]
    }
   ],
   "source": [
    "from tqdm import tqdm\n",
    "X = []\n",
    "for images_list in tqdm(df['files_list'].values):\n",
    "    frames_array = get_images(images_list, img_size=(80, 100))\n",
    "    X.append(np.expand_dims(frames_array, axis=0))\n",
    "    \n",
    "y = df['classe'].cat.codes"
   ]
  },
  {
   "cell_type": "code",
   "execution_count": null,
   "metadata": {},
   "outputs": [],
   "source": [
    "X.shape"
   ]
  },
  {
   "cell_type": "code",
   "execution_count": 92,
   "metadata": {},
   "outputs": [
    {
     "data": {
      "text/plain": [
       "(10, 176, 240)"
      ]
     },
     "execution_count": 92,
     "metadata": {},
     "output_type": "execute_result"
    }
   ],
   "source": [
    "frames_array.shape"
   ]
  },
  {
   "cell_type": "code",
   "execution_count": 82,
   "metadata": {},
   "outputs": [],
   "source": [
    "img = image.load_img(image_path, color_mode='grayscale')"
   ]
  },
  {
   "cell_type": "code",
   "execution_count": 89,
   "metadata": {},
   "outputs": [
    {
     "data": {
      "text/plain": [
       "(176, 240)"
      ]
     },
     "execution_count": 89,
     "metadata": {},
     "output_type": "execute_result"
    }
   ],
   "source": [
    "np.squeeze(image.img_to_array(img)).shape"
   ]
  },
  {
   "cell_type": "code",
   "execution_count": 86,
   "metadata": {},
   "outputs": [
    {
     "data": {
      "text/plain": [
       "(176, 240, 1)"
      ]
     },
     "execution_count": 86,
     "metadata": {},
     "output_type": "execute_result"
    }
   ],
   "source": [
    "image.img_to_array(img)."
   ]
  },
  {
   "cell_type": "code",
   "execution_count": 63,
   "metadata": {},
   "outputs": [],
   "source": [
    "def getImages(files_list):\n",
    "    for image_path in files_list:\n",
    "        img = image.load_img(image_path, target_size=(299, 299), color_mode='grayscale')\n",
    "        x = image.img_to_array(img)\n",
    "        x = np.expand_dims(x, axis=0)"
   ]
  },
  {
   "cell_type": "code",
   "execution_count": null,
   "metadata": {},
   "outputs": [],
   "source": []
  },
  {
   "cell_type": "code",
   "execution_count": 53,
   "metadata": {},
   "outputs": [
    {
     "data": {
      "text/plain": [
       "['/home/fabiana/Desktop/projeto-final-src/Crawler/Videos/A/A/DEResult_10/frame1.jpg',\n",
       " '/home/fabiana/Desktop/projeto-final-src/Crawler/Videos/A/A/DEResult_10/frame10.jpg',\n",
       " '/home/fabiana/Desktop/projeto-final-src/Crawler/Videos/A/A/DEResult_10/frame13.jpg',\n",
       " '/home/fabiana/Desktop/projeto-final-src/Crawler/Videos/A/A/DEResult_10/frame21.jpg',\n",
       " '/home/fabiana/Desktop/projeto-final-src/Crawler/Videos/A/A/DEResult_10/frame23.jpg',\n",
       " '/home/fabiana/Desktop/projeto-final-src/Crawler/Videos/A/A/DEResult_10/frame38.jpg',\n",
       " '/home/fabiana/Desktop/projeto-final-src/Crawler/Videos/A/A/DEResult_10/frame51.jpg',\n",
       " '/home/fabiana/Desktop/projeto-final-src/Crawler/Videos/A/A/DEResult_10/frame54.jpg',\n",
       " '/home/fabiana/Desktop/projeto-final-src/Crawler/Videos/A/A/DEResult_10/frame61.jpg',\n",
       " '/home/fabiana/Desktop/projeto-final-src/Crawler/Videos/A/A/DEResult_10/frame70.jpg']"
      ]
     },
     "execution_count": 53,
     "metadata": {},
     "output_type": "execute_result"
    }
   ],
   "source": [
    "getFiles(df['folder_path'].iloc[0])"
   ]
  },
  {
   "cell_type": "code",
   "execution_count": 12,
   "metadata": {},
   "outputs": [],
   "source": [
    "labels = df['classe'].cat.codes"
   ]
  },
  {
   "cell_type": "code",
   "execution_count": 13,
   "metadata": {},
   "outputs": [
    {
     "data": {
      "text/html": [
       "<div>\n",
       "<style scoped>\n",
       "    .dataframe tbody tr th:only-of-type {\n",
       "        vertical-align: middle;\n",
       "    }\n",
       "\n",
       "    .dataframe tbody tr th {\n",
       "        vertical-align: top;\n",
       "    }\n",
       "\n",
       "    .dataframe thead th {\n",
       "        text-align: right;\n",
       "    }\n",
       "</style>\n",
       "<table border=\"1\" class=\"dataframe\">\n",
       "  <thead>\n",
       "    <tr style=\"text-align: right;\">\n",
       "      <th></th>\n",
       "      <th>palavra</th>\n",
       "      <th>video_url</th>\n",
       "      <th>filename</th>\n",
       "      <th>classe_gramatical</th>\n",
       "      <th>assunto</th>\n",
       "      <th>configuracao_mao</th>\n",
       "      <th>CM</th>\n",
       "      <th>classe</th>\n",
       "    </tr>\n",
       "  </thead>\n",
       "  <tbody>\n",
       "    <tr>\n",
       "      <th>0</th>\n",
       "      <td>A</td>\n",
       "      <td>http://www.acessibilidadebrasil.org.br/libras_...</td>\n",
       "      <td>A.mp4</td>\n",
       "      <td>SUBSTANTIVO</td>\n",
       "      <td>NENHUM</td>\n",
       "      <td>http://www.acessibilidadebrasil.org.br/libras_...</td>\n",
       "      <td>cg01</td>\n",
       "      <td>cg01</td>\n",
       "    </tr>\n",
       "    <tr>\n",
       "      <th>1</th>\n",
       "      <td>ABACATE</td>\n",
       "      <td>http://www.acessibilidadebrasil.org.br/libras_...</td>\n",
       "      <td>ABACATE.mp4</td>\n",
       "      <td>SUBSTANTIVO</td>\n",
       "      <td>FRUTA</td>\n",
       "      <td>http://www.acessibilidadebrasil.org.br/libras_...</td>\n",
       "      <td>cg53a</td>\n",
       "      <td>cg53a</td>\n",
       "    </tr>\n",
       "    <tr>\n",
       "      <th>2</th>\n",
       "      <td>ABACAXI</td>\n",
       "      <td>http://www.acessibilidadebrasil.org.br/libras_...</td>\n",
       "      <td>ABACAXI.mp4</td>\n",
       "      <td>SUBSTANTIVO</td>\n",
       "      <td>FRUTA</td>\n",
       "      <td>http://www.acessibilidadebrasil.org.br/libras_...</td>\n",
       "      <td>cg47</td>\n",
       "      <td>cg47</td>\n",
       "    </tr>\n",
       "    <tr>\n",
       "      <th>3</th>\n",
       "      <td>ABAFAR</td>\n",
       "      <td>http://www.acessibilidadebrasil.org.br/libras_...</td>\n",
       "      <td>ABAFAR.mp4</td>\n",
       "      <td>VERBO</td>\n",
       "      <td>NENHUM</td>\n",
       "      <td>http://www.acessibilidadebrasil.org.br/libras_...</td>\n",
       "      <td>cg07</td>\n",
       "      <td>cg07</td>\n",
       "    </tr>\n",
       "    <tr>\n",
       "      <th>4</th>\n",
       "      <td>ABAIXO</td>\n",
       "      <td>http://www.acessibilidadebrasil.org.br/libras_...</td>\n",
       "      <td>ABAIXO.mp4</td>\n",
       "      <td>ADV.</td>\n",
       "      <td>NENHUM</td>\n",
       "      <td>http://www.acessibilidadebrasil.org.br/libras_...</td>\n",
       "      <td>cg62</td>\n",
       "      <td>cg62</td>\n",
       "    </tr>\n",
       "  </tbody>\n",
       "</table>\n",
       "</div>"
      ],
      "text/plain": [
       "   palavra                                          video_url     filename  \\\n",
       "0        A  http://www.acessibilidadebrasil.org.br/libras_...        A.mp4   \n",
       "1  ABACATE  http://www.acessibilidadebrasil.org.br/libras_...  ABACATE.mp4   \n",
       "2  ABACAXI  http://www.acessibilidadebrasil.org.br/libras_...  ABACAXI.mp4   \n",
       "3   ABAFAR  http://www.acessibilidadebrasil.org.br/libras_...   ABAFAR.mp4   \n",
       "4   ABAIXO  http://www.acessibilidadebrasil.org.br/libras_...   ABAIXO.mp4   \n",
       "\n",
       "  classe_gramatical assunto  \\\n",
       "0       SUBSTANTIVO  NENHUM   \n",
       "1       SUBSTANTIVO   FRUTA   \n",
       "2       SUBSTANTIVO   FRUTA   \n",
       "3             VERBO  NENHUM   \n",
       "4              ADV.  NENHUM   \n",
       "\n",
       "                                    configuracao_mao     CM classe  \n",
       "0  http://www.acessibilidadebrasil.org.br/libras_...   cg01   cg01  \n",
       "1  http://www.acessibilidadebrasil.org.br/libras_...  cg53a  cg53a  \n",
       "2  http://www.acessibilidadebrasil.org.br/libras_...   cg47   cg47  \n",
       "3  http://www.acessibilidadebrasil.org.br/libras_...   cg07   cg07  \n",
       "4  http://www.acessibilidadebrasil.org.br/libras_...   cg62   cg62  "
      ]
     },
     "execution_count": 13,
     "metadata": {},
     "output_type": "execute_result"
    }
   ],
   "source": [
    "df.head()"
   ]
  },
  {
   "cell_type": "code",
   "execution_count": null,
   "metadata": {},
   "outputs": [],
   "source": []
  }
 ],
 "metadata": {
  "kernelspec": {
   "display_name": "Python 3",
   "language": "python",
   "name": "python3"
  },
  "language_info": {
   "codemirror_mode": {
    "name": "ipython",
    "version": 3
   },
   "file_extension": ".py",
   "mimetype": "text/x-python",
   "name": "python",
   "nbconvert_exporter": "python",
   "pygments_lexer": "ipython3",
   "version": "3.7.4"
  }
 },
 "nbformat": 4,
 "nbformat_minor": 4
}
