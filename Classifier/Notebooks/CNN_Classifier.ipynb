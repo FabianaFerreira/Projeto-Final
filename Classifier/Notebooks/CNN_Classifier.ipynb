{
 "cells": [
  {
   "cell_type": "code",
   "execution_count": 21,
   "metadata": {},
   "outputs": [
    {
     "name": "stdout",
     "output_type": "stream",
     "text": [
      "The autoreload extension is already loaded. To reload it, use:\n",
      "  %reload_ext autoreload\n"
     ]
    }
   ],
   "source": [
    "%load_ext autoreload\n",
    "%autoreload 2\n",
    "\n",
    "from sklearn.model_selection import train_test_split, GridSearchCV, cross_val_score, KFold\n",
    "from sklearn.metrics import classification_report\n",
    "\n",
    "from tensorflow.keras.wrappers.scikit_learn import KerasClassifier\n",
    "from tensorflow.keras.models import Sequential\n",
    "from tensorflow.keras.layers import Dense, Dropout, Activation, Conv2D, Flatten, BatchNormalization, MaxPooling2D, GlobalAveragePooling2D\n",
    "from tensorflow.keras.optimizers import SGD\n",
    "from tensorflow.keras.utils import to_categorical\n",
    "from tensorflow.keras.callbacks import EarlyStopping, ModelCheckpoint, CSVLogger\n",
    "\n",
    "import numpy as np\n",
    "import pandas as pd\n",
    "from DataGenerator import DataGenerator"
   ]
  },
  {
   "cell_type": "code",
   "execution_count": 8,
   "metadata": {},
   "outputs": [],
   "source": [
    "X_train = np.load('./datasets/CNN/X_train_no_edge_frames.npy')\n",
    "X_test = np.load('./datasets/CNN/X_test_no_edge_frames.npy')\n",
    "y_train = np.load('./datasets/CNN/y_train_no_edge_frames.npy')\n",
    "y_test = np.load('./datasets/CNN/y_test_no_edge_frames.npy')"
   ]
  },
  {
   "cell_type": "code",
   "execution_count": 9,
   "metadata": {},
   "outputs": [],
   "source": [
    "def createModel():\n",
    "    model = Sequential()\n",
    "    model.add(Conv2D(filters=16, kernel_size=(3,3), input_shape=(176,240,1)))\n",
    "    model.add(BatchNormalization())\n",
    "    model.add(Activation('relu'))\n",
    "    model.add(MaxPooling2D(pool_size=(3, 3), strides=(3, 3)))\n",
    "    \n",
    "    model.add(Conv2D(filters=32, kernel_size=(3,3)))\n",
    "    model.add(BatchNormalization())\n",
    "    model.add(Activation('relu'))\n",
    "    model.add(MaxPooling2D(pool_size=(3, 3), strides=(3, 3)))\n",
    "    \n",
    "    model.add(Conv2D(filters=64, kernel_size=(3,3)))\n",
    "    model.add(BatchNormalization())\n",
    "    model.add(Activation('relu'))\n",
    "    model.add(MaxPooling2D(pool_size=(3, 3), strides=(3, 3)))\n",
    "    \n",
    "    model.add(GlobalAveragePooling2D())\n",
    "    \n",
    "#     model.add(Dense(64, activation='relu', input_dim=2048))\n",
    "#     model.add(Dropout(0.5))\n",
    "#     model.add(Dense(64, activation='relu'))\n",
    "#     model.add(Dropout(0.5))\n",
    "#     model.add(Dense(500, activation='relu', input_dim=2048))\n",
    "    model.add(Flatten())\n",
    "    model.add(Dense(48, activation='softmax'))\n",
    "\n",
    "    sgd = SGD(lr=0.01, decay=1e-6, momentum=0.9, nesterov=True)\n",
    "    model.compile(loss='categorical_crossentropy',\n",
    "                  optimizer='adam',\n",
    "                  metrics=['accuracy'])\n",
    "    return model"
   ]
  },
  {
   "cell_type": "code",
   "execution_count": 10,
   "metadata": {},
   "outputs": [],
   "source": [
    "model = createModel()"
   ]
  },
  {
   "cell_type": "code",
   "execution_count": 11,
   "metadata": {
    "collapsed": true,
    "jupyter": {
     "outputs_hidden": true
    }
   },
   "outputs": [
    {
     "name": "stdout",
     "output_type": "stream",
     "text": [
      "Model: \"sequential_1\"\n",
      "_________________________________________________________________\n",
      "Layer (type)                 Output Shape              Param #   \n",
      "=================================================================\n",
      "conv2d_3 (Conv2D)            (None, 174, 238, 16)      160       \n",
      "_________________________________________________________________\n",
      "batch_normalization_3 (Batch (None, 174, 238, 16)      64        \n",
      "_________________________________________________________________\n",
      "activation_3 (Activation)    (None, 174, 238, 16)      0         \n",
      "_________________________________________________________________\n",
      "max_pooling2d_3 (MaxPooling2 (None, 58, 79, 16)        0         \n",
      "_________________________________________________________________\n",
      "conv2d_4 (Conv2D)            (None, 56, 77, 32)        4640      \n",
      "_________________________________________________________________\n",
      "batch_normalization_4 (Batch (None, 56, 77, 32)        128       \n",
      "_________________________________________________________________\n",
      "activation_4 (Activation)    (None, 56, 77, 32)        0         \n",
      "_________________________________________________________________\n",
      "max_pooling2d_4 (MaxPooling2 (None, 18, 25, 32)        0         \n",
      "_________________________________________________________________\n",
      "conv2d_5 (Conv2D)            (None, 16, 23, 64)        18496     \n",
      "_________________________________________________________________\n",
      "batch_normalization_5 (Batch (None, 16, 23, 64)        256       \n",
      "_________________________________________________________________\n",
      "activation_5 (Activation)    (None, 16, 23, 64)        0         \n",
      "_________________________________________________________________\n",
      "max_pooling2d_5 (MaxPooling2 (None, 5, 7, 64)          0         \n",
      "_________________________________________________________________\n",
      "global_average_pooling2d_1 ( (None, 64)                0         \n",
      "_________________________________________________________________\n",
      "flatten_1 (Flatten)          (None, 64)                0         \n",
      "_________________________________________________________________\n",
      "dense_1 (Dense)              (None, 48)                3120      \n",
      "=================================================================\n",
      "Total params: 26,864\n",
      "Trainable params: 26,640\n",
      "Non-trainable params: 224\n",
      "_________________________________________________________________\n"
     ]
    }
   ],
   "source": [
    "model.summary()"
   ]
  },
  {
   "cell_type": "code",
   "execution_count": 28,
   "metadata": {},
   "outputs": [],
   "source": [
    "train_gen = DataGenerator(X_train, y_train, 128)\n",
    "test_gen = DataGenerator(X_test, y_test, 128)"
   ]
  },
  {
   "cell_type": "code",
   "execution_count": 29,
   "metadata": {},
   "outputs": [],
   "source": [
    "epochs_to_wait_for_improvement = 10\n",
    "logging_path = './logs'\n",
    "models_path = './models'\n",
    "model_name = 'CNN_no_edge_frames'\n",
    "\n",
    "early_stopping = EarlyStopping(monitor='val_loss', patience=epochs_to_wait_for_improvement)\n",
    "checkpoint = ModelCheckpoint(f'{models_path}/{model_name}.h5', monitor='val_loss', save_best_only=True, mode='min')\n",
    "csv_logger = CSVLogger(f'{logging_path}/{model_name}.log')\n",
    "\n",
    "callbacks = [early_stopping, checkpoint, csv_logger]"
   ]
  },
  {
   "cell_type": "code",
   "execution_count": 27,
   "metadata": {},
   "outputs": [
    {
     "name": "stdout",
     "output_type": "stream",
     "text": [
      "Epoch 1/1000\n",
      "7/7 [==============================] - 1s 83ms/step - loss: 0.6745 - accuracy: 0.9600 - val_loss: 4.3716 - val_accuracy: 0.0000e+00\n",
      "Epoch 2/1000\n",
      "7/7 [==============================] - 1s 79ms/step - loss: 0.6573 - accuracy: 0.9600 - val_loss: 4.2574 - val_accuracy: 0.0100\n",
      "Epoch 3/1000\n",
      "7/7 [==============================] - 0s 70ms/step - loss: 0.6757 - accuracy: 0.9600 - val_loss: 4.2855 - val_accuracy: 0.0400\n",
      "Epoch 4/1000\n",
      "7/7 [==============================] - 1s 76ms/step - loss: 0.6114 - accuracy: 0.9800 - val_loss: 4.4755 - val_accuracy: 0.0000e+00\n",
      "Epoch 5/1000\n",
      "7/7 [==============================] - 1s 75ms/step - loss: 0.6161 - accuracy: 0.9600 - val_loss: 4.3673 - val_accuracy: 0.1000\n",
      "Epoch 6/1000\n",
      "7/7 [==============================] - 1s 76ms/step - loss: 0.5804 - accuracy: 0.9700 - val_loss: 4.4482 - val_accuracy: 0.0000e+00\n",
      "Epoch 7/1000\n",
      "7/7 [==============================] - 1s 75ms/step - loss: 0.5724 - accuracy: 0.9700 - val_loss: 4.4527 - val_accuracy: 0.0600\n",
      "Epoch 8/1000\n",
      "7/7 [==============================] - 1s 77ms/step - loss: 0.5589 - accuracy: 0.9800 - val_loss: 4.4429 - val_accuracy: 0.0100\n",
      "Epoch 9/1000\n",
      "7/7 [==============================] - 1s 72ms/step - loss: 0.5684 - accuracy: 0.9800 - val_loss: 4.5225 - val_accuracy: 0.0400\n",
      "Epoch 10/1000\n",
      "7/7 [==============================] - 1s 76ms/step - loss: 0.5121 - accuracy: 0.9800 - val_loss: 4.5306 - val_accuracy: 0.0000e+00\n",
      "Epoch 11/1000\n",
      "7/7 [==============================] - 1s 74ms/step - loss: 0.5244 - accuracy: 0.9800 - val_loss: 4.5391 - val_accuracy: 0.0100\n",
      "Epoch 12/1000\n",
      "7/7 [==============================] - 1s 77ms/step - loss: 0.5271 - accuracy: 0.9800 - val_loss: 4.7126 - val_accuracy: 0.0000e+00\n"
     ]
    },
    {
     "data": {
      "text/plain": [
       "<tensorflow.python.keras.callbacks.History at 0x7fb4d01a3a50>"
      ]
     },
     "execution_count": 27,
     "metadata": {},
     "output_type": "execute_result"
    }
   ],
   "source": [
    "model.fit_generator(generator=train_gen,\n",
    "                    steps_per_epoch=len(train_gen),\n",
    "                    #                    steps_per_epoch = int(3800 // batch_size),\n",
    "                    epochs = 1000,\n",
    "                    verbose = 1,\n",
    "                    validation_data = test_gen,\n",
    "                    validation_steps=len(test_gen),\n",
    "                    callbacks=callbacks\n",
    "                    #                    validation_steps = int(950 // batch_size)\n",
    "                   )"
   ]
  }
 ],
 "metadata": {
  "kernelspec": {
   "display_name": "Python 3",
   "language": "python",
   "name": "python3"
  },
  "language_info": {
   "codemirror_mode": {
    "name": "ipython",
    "version": 3
   },
   "file_extension": ".py",
   "mimetype": "text/x-python",
   "name": "python",
   "nbconvert_exporter": "python",
   "pygments_lexer": "ipython3",
   "version": "3.7.6"
  }
 },
 "nbformat": 4,
 "nbformat_minor": 4
}
