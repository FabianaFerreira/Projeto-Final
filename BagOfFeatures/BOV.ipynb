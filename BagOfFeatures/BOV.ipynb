{
 "cells": [
  {
   "cell_type": "code",
   "execution_count": 50,
   "metadata": {},
   "outputs": [],
   "source": [
    "import cv2\n",
    "import numpy as np \n",
    "import pandas as pd\n",
    "from glob import glob\n",
    "from sklearn.cluster import KMeans\n",
    "from sklearn.svm import SVC\n",
    "from sklearn.preprocessing import StandardScaler\n",
    "from matplotlib import pyplot as plt\n",
    "import pickle"
   ]
  },
  {
   "cell_type": "markdown",
   "metadata": {},
   "source": [
    "### FrameProcessing Class\n",
    "\n",
    "This class is responsible for methods that will process each frame, such as the one that converts the image to its grayscale and the method that will extract the keypoints and process its descriptors"
   ]
  },
  {
   "cell_type": "code",
   "execution_count": 76,
   "metadata": {},
   "outputs": [],
   "source": [
    "class FrameProcessing:\n",
    "    def __init__(self):\n",
    "        self.sift_object = cv2.xfeatures2d.SIFT_create()\n",
    "\n",
    "    def gray(self, image):\n",
    "        gray = cv2.cvtColor(image, cv2.COLOR_RGB2GRAY)\n",
    "        return gray\n",
    "\n",
    "    def features(self, image):\n",
    "        keypoints, descriptors = self.sift_object.detectAndCompute(image, None)\n",
    "        return descriptors"
   ]
  },
  {
   "cell_type": "code",
   "execution_count": 77,
   "metadata": {},
   "outputs": [],
   "source": [
    "def fileProcess(path):\n",
    "    fp = FrameProcessing()\n",
    "    descriptorsList = []\n",
    "    labels = []\n",
    "    for each in glob(path + \"*\"):\n",
    "        word = each.split(\"/\")[-1]\n",
    "        for videoFolder in glob(path+word+\"/*\"):\n",
    "            video = videoFolder.split(\"/\")[-1]\n",
    "            for imagefile in glob(path + word + \"/\" + video + \"/*.jpg\"):\n",
    "                #Read image\n",
    "                im = cv2.imread(imagefile, 0)\n",
    "                #Compute features\n",
    "                descriptorsList.append(fp.features(im))\n",
    "                # Create list of labels\n",
    "                labels.append(word)\n",
    "    return (descriptorsList, labels)"
   ]
  },
  {
   "cell_type": "markdown",
   "metadata": {},
   "source": [
    "### Vocabulary Class\n",
    "\n",
    "This class will generate a visual word vocabulary, based on training images that are provide to a K-Means algorithm, so it will cluster similar features into one"
   ]
  },
  {
   "cell_type": "code",
   "execution_count": 78,
   "metadata": {},
   "outputs": [],
   "source": [
    "class VocabularyCreator:\n",
    "    def __init__(self, codebook_size=20, normalize=True):\n",
    "        # KMeans attributes\n",
    "        self.kmeans_obj = KMeans(n_clusters=codebook_size)\n",
    "        self.codebook_size = codebook_size\n",
    "        self.__kmeans_ret = None\n",
    "        self.__vocabulary = None\n",
    "        self.__scale = None\n",
    "        self.idList = None\n",
    "        self.__normalize = normalize\n",
    "    \n",
    "    def fit(self, X):\n",
    "        print(\"Performing clustering\")\n",
    "        self.__kmeans_ret = self.kmeans_obj.fit_predict(X)\n",
    "\n",
    "    def createVocabulary(self, X):\n",
    "        \"\"\"\n",
    "        Each cluster denotes a particular visual word\n",
    "        Every image can be represeted as a combination of multiple\n",
    "        visual words. The best method is to generate a sparse histogram\n",
    "        that contains the frequency of occurence of each visual word\n",
    "\n",
    "        Thus the vocabulary comprises of a set of histograms of encompassing\n",
    "        all descriptions for all images\n",
    "        \"\"\"\n",
    "        \n",
    "        #Clustering the list\n",
    "        self.fit(np.vstack(X))\n",
    "        \n",
    "        self.idList = np.concatenate([[id]*len(sublist) for id, sublist in enumerate(X)])\n",
    "        self.X = []\n",
    "        \n",
    "        print('Creating histograms')\n",
    "        for id in np.unique(self.idList):\n",
    "            bincount = np.zeros(self.codebook_size)\n",
    "            aux_bincount = np.bincount(self.__kmeans_ret[self.idList == id])\n",
    "            bincount[:len(aux_bincount)] = aux_bincount\n",
    "            self.X.append(bincount)\n",
    "        self.X = np.vstack(self.X)\n",
    "        \n",
    "        #Standardizing the histogram\n",
    "        if (self.__normalize):\n",
    "            self.standardize()\n",
    "                \n",
    "    def standardize(self, std=None):\n",
    "        \"\"\"\n",
    "        standardize is required to normalize the distribution\n",
    "        wrt sample size and features. If not normalized, the classifier may become\n",
    "        biased due to steep variances.\n",
    "        \"\"\"\n",
    "        if std is None:\n",
    "            self.__scale = StandardScaler().fit(self.X)\n",
    "            self.X = self.__scale.transform(self.X)\n",
    "        else:\n",
    "            print(\"STD not none. External STD supplied\")\n",
    "            self.__vocabulary = std.transform(self.__vocabulary)\n",
    "        \n",
    "    def plotHist(self):\n",
    "        pd.Series(self.__kmeans_ret).value_counts().sort_index().plot(kind='bar')\n",
    "    \n",
    "    def getVocabulary(self):\n",
    "        return self.X"
   ]
  },
  {
   "cell_type": "code",
   "execution_count": 79,
   "metadata": {},
   "outputs": [],
   "source": [
    "def saveObject(data, filename):\n",
    "    pickle.dump(data, open(filename, 'wb'))"
   ]
  },
  {
   "cell_type": "code",
   "execution_count": 81,
   "metadata": {},
   "outputs": [],
   "source": [
    "pathTest = \"/home/fabiana/Desktop/projeto-final-src/datasets/SmallTest/\"\n",
    "x_kmeans, y = fileProcess(pathTest)"
   ]
  },
  {
   "cell_type": "code",
   "execution_count": 115,
   "metadata": {},
   "outputs": [
    {
     "name": "stdout",
     "output_type": "stream",
     "text": [
      "Performing clustering\n"
     ]
    }
   ],
   "source": [
    "vocabulary = VocabularyCreator(codebook_size=100)\n",
    "vocabulary.createVocabulary(x_kmeans)"
   ]
  },
  {
   "cell_type": "code",
   "execution_count": 116,
   "metadata": {},
   "outputs": [
    {
     "data": {
      "text/plain": [
       "(40, 100)"
      ]
     },
     "execution_count": 116,
     "metadata": {},
     "output_type": "execute_result"
    }
   ],
   "source": [
    "vocabulary.X.shape"
   ]
  },
  {
   "cell_type": "code",
   "execution_count": null,
   "metadata": {},
   "outputs": [],
   "source": [
    "saveObject(y, \"labels.pkl\")\n",
    "saveObject(vocabulary.X, \"input.pkl\")\n",
    "saveObject(vocabulary.kmeans_obj, \"kmeans.pkl\")"
   ]
  },
  {
   "cell_type": "code",
   "execution_count": null,
   "metadata": {},
   "outputs": [],
   "source": []
  },
  {
   "cell_type": "code",
   "execution_count": 95,
   "metadata": {},
   "outputs": [],
   "source": [
    "from sklearn.svm import SVC"
   ]
  },
  {
   "cell_type": "code",
   "execution_count": 106,
   "metadata": {},
   "outputs": [],
   "source": [
    "from sklearn.model_selection import train_test_split, GridSearchCV, KFold"
   ]
  },
  {
   "cell_type": "code",
   "execution_count": 123,
   "metadata": {},
   "outputs": [],
   "source": [
    "cv = KFold(n_splits=5, shuffle=True)\n",
    "svm = SVC()"
   ]
  },
  {
   "cell_type": "code",
   "execution_count": 124,
   "metadata": {},
   "outputs": [],
   "source": [
    "grid_cv = GridSearchCV(svm, {'C': [0.2, 0.5, 1]}, scoring='accuracy', n_jobs=-1, cv=cv)"
   ]
  },
  {
   "cell_type": "code",
   "execution_count": 125,
   "metadata": {},
   "outputs": [
    {
     "data": {
      "text/plain": [
       "GridSearchCV(cv=KFold(n_splits=5, random_state=None, shuffle=True),\n",
       "             error_score='raise-deprecating',\n",
       "             estimator=SVC(C=1.0, cache_size=200, class_weight=None, coef0=0.0,\n",
       "                           decision_function_shape='ovr', degree=3,\n",
       "                           gamma='auto_deprecated', kernel='rbf', max_iter=-1,\n",
       "                           probability=False, random_state=None, shrinking=True,\n",
       "                           tol=0.001, verbose=False),\n",
       "             iid='warn', n_jobs=-1, param_grid={'C': [0.2, 0.5, 1]},\n",
       "             pre_dispatch='2*n_jobs', refit=True, return_train_score=False,\n",
       "             scoring='accuracy', verbose=0)"
      ]
     },
     "execution_count": 125,
     "metadata": {},
     "output_type": "execute_result"
    }
   ],
   "source": [
    "grid_cv.fit(vocabulary.X, y)"
   ]
  },
  {
   "cell_type": "code",
   "execution_count": 126,
   "metadata": {},
   "outputs": [
    {
     "data": {
      "text/plain": [
       "{'mean_fit_time': array([0.0020462 , 0.00184922, 0.0017261 ]),\n",
       " 'std_fit_time': array([0.00069377, 0.00031363, 0.00014658]),\n",
       " 'mean_score_time': array([0.00064592, 0.00067334, 0.00078058]),\n",
       " 'std_score_time': array([1.35264456e-04, 2.31550474e-05, 4.84465145e-05]),\n",
       " 'param_C': masked_array(data=[0.2, 0.5, 1],\n",
       "              mask=[False, False, False],\n",
       "        fill_value='?',\n",
       "             dtype=object),\n",
       " 'params': [{'C': 0.2}, {'C': 0.5}, {'C': 1}],\n",
       " 'split0_test_score': array([0.375, 0.875, 1.   ]),\n",
       " 'split1_test_score': array([0.625, 1.   , 1.   ]),\n",
       " 'split2_test_score': array([1., 1., 1.]),\n",
       " 'split3_test_score': array([0.75, 1.  , 1.  ]),\n",
       " 'split4_test_score': array([0.625, 1.   , 1.   ]),\n",
       " 'mean_test_score': array([0.675, 0.975, 1.   ]),\n",
       " 'std_test_score': array([0.20310096, 0.05      , 0.        ]),\n",
       " 'rank_test_score': array([3, 2, 1], dtype=int32)}"
      ]
     },
     "execution_count": 126,
     "metadata": {},
     "output_type": "execute_result"
    }
   ],
   "source": [
    "grid_cv.cv_results_"
   ]
  },
  {
   "cell_type": "code",
   "execution_count": 127,
   "metadata": {},
   "outputs": [
    {
     "data": {
      "text/plain": [
       "{'C': 1}"
      ]
     },
     "execution_count": 127,
     "metadata": {},
     "output_type": "execute_result"
    }
   ],
   "source": [
    "grid_cv.best_params_"
   ]
  },
  {
   "cell_type": "code",
   "execution_count": 122,
   "metadata": {},
   "outputs": [
    {
     "name": "stderr",
     "output_type": "stream",
     "text": [
      "/home/fabiana/miniconda3/envs/opencv/lib/python3.7/site-packages/sklearn/svm/base.py:193: FutureWarning: The default value of gamma will change from 'auto' to 'scale' in version 0.22 to account better for unscaled features. Set gamma explicitly to 'auto' or 'scale' to avoid this warning.\n",
      "  \"avoid this warning.\", FutureWarning)\n"
     ]
    },
    {
     "data": {
      "text/plain": [
       "SVC(C=1.0, cache_size=200, class_weight=None, coef0=0.0,\n",
       "    decision_function_shape='ovr', degree=3, gamma='auto_deprecated',\n",
       "    kernel='rbf', max_iter=-1, probability=False, random_state=None,\n",
       "    shrinking=True, tol=0.001, verbose=False)"
      ]
     },
     "execution_count": 122,
     "metadata": {},
     "output_type": "execute_result"
    }
   ],
   "source": [
    "svm.fit(X_train, y_train)"
   ]
  },
  {
   "cell_type": "code",
   "execution_count": 105,
   "metadata": {},
   "outputs": [
    {
     "data": {
      "text/plain": [
       "0.4166666666666667"
      ]
     },
     "execution_count": 105,
     "metadata": {},
     "output_type": "execute_result"
    }
   ],
   "source": [
    "svm.score(X_test, y_test)"
   ]
  },
  {
   "cell_type": "code",
   "execution_count": null,
   "metadata": {},
   "outputs": [],
   "source": []
  },
  {
   "cell_type": "code",
   "execution_count": 128,
   "metadata": {},
   "outputs": [],
   "source": [
    "from sklearn.manifold import TSNE"
   ]
  },
  {
   "cell_type": "code",
   "execution_count": 129,
   "metadata": {},
   "outputs": [],
   "source": [
    "tsne = TSNE(2)"
   ]
  },
  {
   "cell_type": "code",
   "execution_count": 130,
   "metadata": {},
   "outputs": [],
   "source": [
    "tsne_features = tsne.fit_transform(vocabulary.X)"
   ]
  },
  {
   "cell_type": "code",
   "execution_count": 137,
   "metadata": {},
   "outputs": [],
   "source": [
    "df_tsne = pd.DataFrame({\n",
    "    'feature0': tsne_features[:,0],\n",
    "    'feature1': tsne_features[:,1]}\n",
    ")\n",
    "df_tsne['label'] = y"
   ]
  },
  {
   "cell_type": "code",
   "execution_count": 141,
   "metadata": {},
   "outputs": [],
   "source": [
    "cmap = plt.get_cmap('tab10')"
   ]
  },
  {
   "cell_type": "code",
   "execution_count": 142,
   "metadata": {},
   "outputs": [],
   "source": [
    "colors = [cmap(int(label))for label in y]"
   ]
  },
  {
   "cell_type": "code",
   "execution_count": 144,
   "metadata": {},
   "outputs": [
    {
     "data": {
      "text/plain": [
       "<matplotlib.axes._subplots.AxesSubplot at 0x7fd1eabe8cd0>"
      ]
     },
     "execution_count": 144,
     "metadata": {},
     "output_type": "execute_result"
    },
    {
     "data": {
      "image/png": "[encoded data removed]",
      "text/plain": [
       "<Figure size 432x288 with 1 Axes>"
      ]
     },
     "metadata": {
      "needs_background": "light"
     },
     "output_type": "display_data"
    }
   ],
   "source": [
    "df_tsne.plot(x='feature0', y='feature1', color=colors, kind='scatter')"
   ]
  }
 ],
 "metadata": {
  "kernelspec": {
   "display_name": "Python 3",
   "language": "python",
   "name": "python3"
  },
  "language_info": {
   "codemirror_mode": {
    "name": "ipython",
    "version": 3
   },
   "file_extension": ".py",
   "mimetype": "text/x-python",
   "name": "python",
   "nbconvert_exporter": "python",
   "pygments_lexer": "ipython3",
   "version": "3.7.4"
  }
 },
 "nbformat": 4,
 "nbformat_minor": 4
}
