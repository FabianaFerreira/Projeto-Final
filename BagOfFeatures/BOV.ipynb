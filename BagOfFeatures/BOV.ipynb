{
 "cells": [
  {
   "cell_type": "code",
   "execution_count": 22,
   "metadata": {},
   "outputs": [],
   "source": [
    "import cv2\n",
    "import numpy as np \n",
    "import pandas as pd\n",
    "from glob import glob\n",
    "from sklearn.cluster import KMeans\n",
    "from sklearn.svm import SVC\n",
    "from sklearn.preprocessing import StandardScaler\n",
    "from matplotlib import pyplot as plt\n",
    "import pickle"
   ]
  },
  {
   "cell_type": "markdown",
   "metadata": {},
   "source": [
    "### FrameProcessing Class\n",
    "\n",
    "This class is responsible for methods that will process each frame, such as the one that converts the image to its grayscale and the method that will extract the keypoints and process its descriptors"
   ]
  },
  {
   "cell_type": "code",
   "execution_count": 56,
   "metadata": {},
   "outputs": [],
   "source": [
    "class FrameProcessing:\n",
    "    def __init__(self):\n",
    "        self.sift_object = cv2.xfeatures2d.SIFT_create()\n",
    "\n",
    "    def gray(self, image):\n",
    "        gray = cv2.cvtColor(image, cv2.COLOR_RGB2GRAY)\n",
    "        return gray\n",
    "\n",
    "    def features(self, image):\n",
    "        keypoints, descriptors = self.sift_object.detectAndCompute(image, None)\n",
    "        return [keypoints, descriptors]"
   ]
  },
  {
   "cell_type": "markdown",
   "metadata": {},
   "source": [
    "### FileProcessing Class\n",
    "\n",
    "This class is responsible for processing the files from dataset, getting the filenames based on the path to directory and also returninn a dictionary with all the frames per video file"
   ]
  },
  {
   "cell_type": "code",
   "execution_count": 57,
   "metadata": {},
   "outputs": [],
   "source": [
    "class FileProcessing:\n",
    "    def __init__(self):\n",
    "        pass\n",
    "\n",
    "    def getFiles(self, path):\n",
    "        \"\"\"\n",
    "        - returns  a dictionary of all files \n",
    "        having key => value as  objectname => image path\n",
    "        - returns total number of files.\n",
    "        \"\"\"\n",
    "        imlist = {}\n",
    "        count = 0\n",
    "        for each in glob(path + \"*\"):\n",
    "            word = each.split(\"/\")[-1]\n",
    "            imlist[word] = []\n",
    "            for imagefile in glob(path+word+\"/*/*.jpg\"):\n",
    "                im = cv2.imread(imagefile, 0)\n",
    "                imlist[word].append(im)\n",
    "                count += 1\n",
    "\n",
    "        return [imlist, count]\n",
    "    \n",
    "    def getImagesPerVideo(self, path):\n",
    "        imlist = {}\n",
    "        count = 0\n",
    "        for each in glob(path + \"*\"):\n",
    "            word = each.split(\"/\")[-1]\n",
    "            imlist[word] = []\n",
    "            for videoFolder in glob(path+word+\"/*\"):\n",
    "                video = videoFolder.split(\"/\")[-1]\n",
    "                frames = []\n",
    "                for imagefile in glob(path + word + \"/\" + video + \"/*.jpg\"):\n",
    "                    im = cv2.imread(imagefile, 0)\n",
    "                    frames.append(im)\n",
    "                    count += 1\n",
    "                imlist[word].append(frames)\n",
    "        return [imlist, count]"
   ]
  },
  {
   "cell_type": "markdown",
   "metadata": {},
   "source": [
    "### Vocabulary Class\n",
    "\n",
    "This class will generate a visual word vocabulary, based on training images that are provide to a K-Means algorithm, so it will cluster similar features into one"
   ]
  },
  {
   "cell_type": "code",
   "execution_count": 58,
   "metadata": {},
   "outputs": [],
   "source": [
    "class VocabularyDeveloper:\n",
    "    def __init__(self, path, n_clusters=20, kmeansObj=None):\n",
    "        if (kmeansObj is not None):\n",
    "            print(\"Constructor with an existing vocabulary\")\n",
    "            file = open(kmeansObj,'rb')\n",
    "            self.__kmeans_obj = pickle.load(file)\n",
    "        else:\n",
    "            self.__kmeans_obj = KMeans(n_clusters=n_clusters)\n",
    "\n",
    "        # KMeans attributes\n",
    "        self.__n_clusters = n_clusters\n",
    "        self.__kmeans_ret = None\n",
    "        self.__descriptor_vstack = None\n",
    "\n",
    "        self.__pathfile = path\n",
    "        self.__fileProcessing = FileProcessing()\n",
    "        self.__framesProcessing = FrameProcessing()\n",
    "        self.__descriptorsList = []\n",
    "        self.__images = None\n",
    "        self.__imagesCounter = 0\n",
    "        self.classNames = {}\n",
    "\n",
    "        self.__vocabulary = None\n",
    "        self.__scale = None\n",
    "        \n",
    "    def generateDescriptorList(self):\n",
    "        # read file. prepare file lists.\n",
    "        self.__images, self.__imagesCounter = self.__fileProcessing.getImagesPerVideo(\n",
    "                                      self.__pathfile)\n",
    "        # extract SIFT Features from each image\n",
    "        labelCounter = 0\n",
    "        for word, videoList in self.__images.items():\n",
    "#             self.__classNames[str(labelCounter)] = word\n",
    "            print(\"Computing Features for \", word)\n",
    "            for video in videoList:\n",
    "                for im in video:\n",
    "                    kp, des = self.__framesProcessing.features(im)\n",
    "                    self.__descriptorsList.append(des)\n",
    "            labelCounter += 1\n",
    "        print(\"Number of descriptors generated for \" + str(self.__imagesCounter) + \" images: \" + str(len(self.__descriptorsList)))\n",
    "    \n",
    "    def performCluster(self):\n",
    "        print(\"Performing clustering\")\n",
    "        self.__descriptor_vstack = np.vstack(self.__descriptorsList)\n",
    "        self.__kmeans_ret = self.__kmeans_obj.fit_predict(self.__descriptor_vstack)\n",
    "\n",
    "    \n",
    "    def developVocabulary(self, kmeans_ret=None):\n",
    "        \"\"\"\n",
    "        Each cluster denotes a particular visual word\n",
    "        Every image can be represeted as a combination of multiple\n",
    "        visual words. The best method is to generate a sparse histogram\n",
    "        that contains the frequency of occurence of each visual word\n",
    "\n",
    "        Thus the vocabulary comprises of a set of histograms of encompassing\n",
    "        all descriptions for all images\n",
    "        \"\"\"\n",
    "\n",
    "        #Generating list of descriptors\n",
    "        self.generateDescriptorList()\n",
    "        \n",
    "        #Clustering the list\n",
    "        self.performCluster()\n",
    "        \n",
    "        #Generating vocabulary itself\n",
    "        self.__vocabulary = np.array(\n",
    "            [np.zeros(self.__n_clusters) for i in range(self.__imagesCounter)])\n",
    "        old_count = 0\n",
    "        for i in range(self.__imagesCounter):\n",
    "            l = len(self.__descriptorsList[i])\n",
    "            for j in range(l):\n",
    "                if kmeans_ret is None:\n",
    "                    idx = self.__kmeans_ret[old_count+j]\n",
    "                else:\n",
    "                    idx = self.__kmeans_ret[old_count+j]\n",
    "                self.__vocabulary[i][idx] += 1\n",
    "            old_count += l\n",
    "        print(\"Vocabulary Histogram Generated\")\n",
    "        \n",
    "        #Standardizing the histogram\n",
    "        self.standardize()\n",
    "        \n",
    "        self.plotHist()\n",
    "        \n",
    "        self.saveModel()\n",
    "        \n",
    "    def standardize(self, std=None):\n",
    "        \"\"\"\n",
    "        standardize is required to normalize the distribution\n",
    "        wrt sample size and features. If not normalized, the classifier may become\n",
    "        biased due to steep variances.\n",
    "        \"\"\"\n",
    "        if std is None:\n",
    "            self.__scale = StandardScaler().fit(self.__vocabulary)\n",
    "            self.__vocabulary = self.__scale.transform(self.__vocabulary)\n",
    "        else:\n",
    "            print(\"STD not none. External STD supplied\")\n",
    "            self.__vocabulary = std.transform(self.__vocabulary)\n",
    "            \n",
    "    def saveModel(self):\n",
    "        filename = f'vocabulary_{self.__n_clusters}'\n",
    "        pickle.dump(self.__kmeans_obj, open(filename, 'wb'))\n",
    "    \n",
    "    def plotHist(self, vocabulary=None):\n",
    "        pd.Series(self.__kmeans_ret).value_counts().sort_index().plot(kind='bar')\n",
    "        \n",
    "    def getKMeansObject(self):\n",
    "        return self.__kmeans_obj\n",
    "    \n",
    "    def getImages(self):\n",
    "        return self.__images\n",
    "    \n",
    "    def getNumberOfClusters(self):\n",
    "        return self.__n_clusters\n",
    "    \n",
    "    def getVocabulary(self):\n",
    "        return self.__vocabulary\n",
    "    \n",
    "    def getDescriptorList(self):\n",
    "        return self.__descriptorsList\n",
    "    \n",
    "    def getKMeansReturn(self):\n",
    "        return self.__kmeans_ret    "
   ]
  },
  {
   "cell_type": "markdown",
   "metadata": {},
   "source": [
    "### Visual Word Representation Class\n",
    "\n",
    "Given a vocabulary, it will be responsible for generating visual word histograms for each video that contains a specific quantity of frames"
   ]
  },
  {
   "cell_type": "code",
   "execution_count": 59,
   "metadata": {},
   "outputs": [],
   "source": [
    "class VisualWordRepresentation:\n",
    "    def __init__(self, vocabulary):\n",
    "        self.vocabulary = vocabulary\n",
    "        self.fp = FrameProcessing()\n",
    "        self.nClusters = self.vocabulary.getNumberOfClusters()\n",
    "        self.framesFeatures = []\n",
    "        \n",
    "    def generateFeaturesList(self):\n",
    "        descriptorsList = self.vocabulary.getDescriptorList()\n",
    "        for des in descriptorsList:\n",
    "            self.framesFeatures.append(self.vocabulary.getKMeansObject().predict(des))\n",
    "        \n",
    "    def clusterFrameFeatures(self, image):\n",
    "        [kp, des] = self.fp.features(image)\n",
    "        return kp, self.vocabulary.getKMeansObject().predict(des)\n",
    "    \n",
    "    def buildFrameHistogram(self, image):\n",
    "        print(\"Generating histogram for image\")\n",
    "        histogram = np.zeros(len(self.vocabulary.getKMeansObject().cluster_centers_))\n",
    "        kp, cluster_result = self.clusterFrameFeatures(image)\n",
    "        pd.Series(cluster_result).value_counts().sort_index().plot(kind='bar')"
   ]
  },
  {
   "cell_type": "code",
   "execution_count": 60,
   "metadata": {},
   "outputs": [
    {
     "name": "stdout",
     "output_type": "stream",
     "text": [
      "Constructor with an existing vocabulary\n",
      "Computing Features for  3\n",
      "Computing Features for  0\n",
      "Number of descriptors generated for 40 images: 40\n",
      "Performing clustering\n",
      "Vocabulary Histogram Generated\n"
     ]
    },
    {
     "data": {
      "image/png": "[encoded data removed]",
      "text/plain": [
       "<Figure size 432x288 with 1 Axes>"
      ]
     },
     "metadata": {
      "needs_background": "light"
     },
     "output_type": "display_data"
    }
   ],
   "source": [
    "pathTest = \"/home/fabiana/Desktop/projeto-final-src/datasets/SmallTest/\"\n",
    "#Codebook with size 110\n",
    "v = VocabularyDeveloper(pathTest, n_clusters=100, kmeansObj=\"vocabulary_100\")\n",
    "v.developVocabulary()"
   ]
  },
  {
   "cell_type": "code",
   "execution_count": 64,
   "metadata": {},
   "outputs": [],
   "source": [
    "vor = VisualWordRepresentation(v)\n",
    "vor.generateFeaturesList()"
   ]
  }
 ],
 "metadata": {
  "kernelspec": {
   "display_name": "Python 3",
   "language": "python",
   "name": "python3"
  },
  "language_info": {
   "codemirror_mode": {
    "name": "ipython",
    "version": 3
   },
   "file_extension": ".py",
   "mimetype": "text/x-python",
   "name": "python",
   "nbconvert_exporter": "python",
   "pygments_lexer": "ipython3",
   "version": "3.7.4"
  }
 },
 "nbformat": 4,
 "nbformat_minor": 4
}
