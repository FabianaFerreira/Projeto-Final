{
 "cells": [
  {
   "cell_type": "code",
   "execution_count": 3,
   "metadata": {},
   "outputs": [],
   "source": [
    "import cv2\n",
    "import numpy as np \n",
    "from glob import glob\n",
    "from sklearn.cluster import KMeans\n",
    "from sklearn.svm import SVC\n",
    "from sklearn.preprocessing import StandardScaler\n",
    "from matplotlib import pyplot as plt"
   ]
  },
  {
   "cell_type": "markdown",
   "metadata": {},
   "source": [
    "### FrameProcessing Class\n",
    "\n",
    "This class is responsible for methods that will process each frame, such as the one that converts the image to its grayscale and the method that will extract the keypoints and process its descriptors"
   ]
  },
  {
   "cell_type": "code",
   "execution_count": 130,
   "metadata": {},
   "outputs": [],
   "source": [
    "class FrameProcessing:\n",
    "    def __init__(self):\n",
    "        self.sift_object = cv2.xfeatures2d.SIFT_create()\n",
    "\n",
    "    def gray(self, image):\n",
    "        gray = cv2.cvtColor(image, cv2.COLOR_RGB2GRAY)\n",
    "        return gray\n",
    "\n",
    "    def features(self, image):\n",
    "        keypoints, descriptors = self.sift_object.detectAndCompute(image, None)\n",
    "        return [keypoints, descriptors]"
   ]
  },
  {
   "cell_type": "markdown",
   "metadata": {},
   "source": [
    "### FileProcessing Class\n",
    "\n",
    "This class is responsible for processing the files from dataset, getting the filenames based on the path to directory and also returninn a dictionary with all the frames per video file"
   ]
  },
  {
   "cell_type": "code",
   "execution_count": 131,
   "metadata": {},
   "outputs": [],
   "source": [
    "class FileProcessing:\n",
    "    def __init__(self):\n",
    "        pass\n",
    "\n",
    "    def getFiles(self, path):\n",
    "        \"\"\"\n",
    "        - returns  a dictionary of all files \n",
    "        having key => value as  objectname => image path\n",
    "        - returns total number of files.\n",
    "        \"\"\"\n",
    "        imlist = {}\n",
    "        count = 0\n",
    "        for each in glob(path + \"*\"):\n",
    "            word = each.split(\"/\")[-1]\n",
    "            imlist[word] = []\n",
    "            for imagefile in glob(path+word+\"/*/*.jpg\"):\n",
    "                im = cv2.imread(imagefile, 0)\n",
    "                imlist[word].append(im)\n",
    "                count += 1\n",
    "\n",
    "        return [imlist, count]\n",
    "    \n",
    "    def getImagesPerVideo(self, path):\n",
    "        \"\"\"\n",
    "        - returns  a dictionary of all files \n",
    "        having key => value as  objectname => image path\n",
    "        - returns total number of files.\n",
    "        \"\"\"\n",
    "        imlist = {}\n",
    "        count = 0\n",
    "        for each in glob(path + \"*\"):\n",
    "            word = each.split(\"/\")[-1]\n",
    "            imlist[word] = []\n",
    "            for videoFolder in glob(path+word+\"/*\"):\n",
    "                video = videoFolder.split(\"/\")[-1]\n",
    "                frames = []\n",
    "                for imagefile in glob(path + word + \"/\" + video + \"/*.jpg\"):\n",
    "                    im = cv2.imread(imagefile, 0)\n",
    "                    frames.append(im)\n",
    "                    count += 1\n",
    "                imlist[word].append(frames)\n",
    "        return [imlist, count]"
   ]
  },
  {
   "cell_type": "markdown",
   "metadata": {},
   "source": [
    "### Vocabulary Class\n",
    "\n",
    "This class will generate a visual word vocabulary, based on training images that are provide to a K-Means algorithm, so it will cluster similar features into one"
   ]
  },
  {
   "cell_type": "code",
   "execution_count": 132,
   "metadata": {},
   "outputs": [],
   "source": [
    "class VocabularyDeveloper:\n",
    "    def __init__(self, path, n_clusters=20):\n",
    "        # KMeans attributes\n",
    "        self.n_clusters = n_clusters\n",
    "        self.kmeans_obj = KMeans(n_clusters=n_clusters)\n",
    "        self.kmeans_ret = None\n",
    "        self.descriptor_vstack = None\n",
    "        \n",
    "        self.pathfile = path\n",
    "        self.fileProcessing = FileProcessing()\n",
    "        self.framesProcessing = FrameProcessing()\n",
    "        self.descriptorsList = []\n",
    "        self.images = None\n",
    "        self.imagesCounter = 0\n",
    "        self.classNames = {}\n",
    "        \n",
    "        self.vocabulary = None\n",
    "        self.scale = None\n",
    "        \n",
    "    def generateDescriptorList(self):\n",
    "        # read file. prepare file lists.\n",
    "        self.images, self.imagesCounter = self.fileProcessing.getImagesPerVideo(\n",
    "                                      self.pathfile)\n",
    "        # extract SIFT Features from each image\n",
    "        labelCounter = 0\n",
    "        for word, videoList in self.images.items():\n",
    "            self.classNames[str(labelCounter)] = word\n",
    "            print(\"Computing Features for \", word)\n",
    "            for video in videoList:\n",
    "                for im in video:\n",
    "                    kp, des = self.framesProcessing.features(im)\n",
    "                    self.descriptorsList.append(des)\n",
    "            labelCounter += 1\n",
    "        print(\"Number of descriptors generated for \" + str(self.imagesCounter) + \" images: \" + str(len(self.descriptorsList)))\n",
    "    \n",
    "    def performCluster(self):\n",
    "        print(\"Performing clustering\")\n",
    "        self.descriptor_vstack = self.formatND(self.descriptorsList)\n",
    "        self.kmeans_ret = self.kmeans_obj.fit_predict(self.descriptor_vstack)\n",
    "        self.plotClusterResult()\n",
    "        \n",
    "    def formatND(self, l):\n",
    "        \"\"\"\n",
    "        restructures list into vstack array of shape\n",
    "        M samples x N features for sklearn\n",
    "        \"\"\"\n",
    "        vStack = np.array(l[0])\n",
    "        for remaining in l[1:]:\n",
    "            vStack = np.vstack((vStack, remaining))\n",
    "        self.descriptor_vstack = vStack.copy()\n",
    "        \n",
    "        print(self.descriptor_vstack.shape)\n",
    "        return vStack\n",
    "    \n",
    "    def developVocabulary(self, kmeans_ret=None):\n",
    "        \"\"\"\n",
    "        Each cluster denotes a particular visual word\n",
    "        Every image can be represeted as a combination of multiple\n",
    "        visual words. The best method is to generate a sparse histogram\n",
    "        that contains the frequency of occurence of each visual word\n",
    "\n",
    "        Thus the vocabulary comprises of a set of histograms of encompassing\n",
    "        all descriptions for all images\n",
    "        \"\"\"\n",
    "\n",
    "        #Generating list of descriptors\n",
    "        self.generateDescriptorList()\n",
    "        \n",
    "        #Clustering the list\n",
    "        self.performCluster()\n",
    "        \n",
    "        #Generating vocabulary itself\n",
    "        self.vocabulary = np.array(\n",
    "            [np.zeros(self.n_clusters) for i in range(self.imagesCounter)])\n",
    "        old_count = 0\n",
    "        for i in range(self.imagesCounter):\n",
    "            l = len(self.descriptorsList[i])\n",
    "            for j in range(l):\n",
    "                if kmeans_ret is None:\n",
    "                    idx = self.kmeans_ret[old_count+j]\n",
    "                else:\n",
    "                    idx = self.kmeans_ret[old_count+j]\n",
    "                self.vocabulary[i][idx] += 1\n",
    "            old_count += l\n",
    "        print(\"Vocabulary Histogram Generated\")\n",
    "        \n",
    "        #Standardizing the histogram\n",
    "        self.standardize()\n",
    "        \n",
    "    def standardize(self, std=None):\n",
    "        \"\"\"\n",
    "        standardize is required to normalize the distribution\n",
    "        wrt sample size and features. If not normalized, the classifier may become\n",
    "        biased due to steep variances.\n",
    "        \"\"\"\n",
    "        if std is None:\n",
    "            self.scale = StandardScaler().fit(self.vocabulary)\n",
    "            self.vocabulary = self.scale.transform(self.vocabulary)\n",
    "        else:\n",
    "            print(\"STD not none. External STD supplied\")\n",
    "            self.vocabulary = std.transform(self.vocabulary)\n",
    "            \n",
    "    def plotHist(self, vocabulary=None):\n",
    "        print(\"Plotting histogram\")\n",
    "        if vocabulary is None:\n",
    "            vocabulary = self.vocabulary\n",
    "            \n",
    "        x_scalar = np.arange(self.n_clusters)\n",
    "        y_scalar = np.array([abs(np.sum(vocabulary[:, h], dtype=np.int32))\n",
    "                             for h in range(self.n_clusters)])\n",
    "\n",
    "        plt.bar(x_scalar, y_scalar)\n",
    "        plt.xlabel(\"Visual Word Index\")\n",
    "        plt.ylabel(\"Frequency\")\n",
    "        plt.title(\"Complete Vocabulary Generated\")\n",
    "        plt.xticks(x_scalar + 0.4, x_scalar)\n",
    "        plt.show()\n",
    "        \n",
    "    def plotClusterResult(self):\n",
    "        print(\"Number of clusters:\" + str(self.n_clusters))\n",
    "        print(\"Plotting cluster result\")\n",
    "        \n",
    "        centers = self.kmeans_obj.cluster_centers_\n",
    "        print(centers.shape)\n",
    "        plt.scatter(centers[:, 0], centers[:, 1], c='black', s=200, alpha=0.5)\n",
    "        \n",
    "    def getKMeansObject(self):\n",
    "        return self.kmeans_obj\n",
    "    \n",
    "    def getImages(self):\n",
    "        return self.images\n",
    "    \n",
    "    def getNumberOfClusters(self):\n",
    "        return self.n_clusters\n",
    "    "
   ]
  },
  {
   "cell_type": "markdown",
   "metadata": {},
   "source": [
    "### Visual Word Representation Class\n",
    "\n",
    "Given a vocabulary, it will be responsible for generating visual word histograms for each video that contains a specific quantity of frames"
   ]
  },
  {
   "cell_type": "code",
   "execution_count": 173,
   "metadata": {},
   "outputs": [],
   "source": [
    "class VisualWordRepresentation:\n",
    "    def __init__(self, vocabulary):\n",
    "        self.vocabulary = vocabulary\n",
    "        self.fp = FrameProcessing()\n",
    "        self.nClusters = self.vocabulary.getNumberOfClusters()\n",
    "    \n",
    "    def buildFrameHistogram(self, image):\n",
    "        print(\"Generating histogram for image\")\n",
    "        histogram = np.zeros(len(self.vocabulary.getKMeansObject().cluster_centers_))\n",
    "        [kp, des] = self.fp.features(image)\n",
    "        cluster_result = self.vocabulary.getKMeansObject().predict(des)\n",
    "        for i in cluster_result:\n",
    "            histogram[i] += 1.0\n",
    "        x_scalar = np.arange(self.nClusters)\n",
    "        y_scalar = np.array([abs(np.sum(histogram[h], dtype=np.int32))\n",
    "                             for h in range(self.nClusters)])\n",
    "        plt.bar(x_scalar, y_scalar)\n",
    "        plt.xlabel(\"Visual Word Index\")\n",
    "        plt.ylabel(\"Frequency\")\n",
    "        plt.title(\"Histogram for frame \")\n",
    "        plt.xticks(x_scalar + 0.4, x_scalar)\n",
    "        plt.show()    \n",
    "    \n",
    "    def buildVideoHistogram(self, label):\n",
    "        videosFromLabel = self.vocabulary.getImages()[label]\n",
    "        for number, video in enumerate(videosFromLabel):\n",
    "            histogram = np.zeros(len(self.vocabulary.getKMeansObject().cluster_centers_))\n",
    "            for im in video:\n",
    "                [kp, des] = self.fp.features(im)\n",
    "                cluster_result = self.vocabulary.getKMeansObject().predict(des)\n",
    "                for i in cluster_result:\n",
    "                    histogram[i] += 1.0\n",
    "            x_scalar = np.arange(self.nClusters)\n",
    "            y_scalar = np.array([abs(np.sum(histogram[h], dtype=np.int32))\n",
    "                                 for h in range(self.nClusters)])\n",
    "            plt.bar(x_scalar, y_scalar)\n",
    "            plt.xlabel(\"Visual Word Index\")\n",
    "            plt.ylabel(\"Frequency\")\n",
    "            plt.title(\"Histogram for video \" + str(number) + \" , label \" + label)\n",
    "            plt.xticks(x_scalar + 0.4, x_scalar)\n",
    "            plt.show()    "
   ]
  },
  {
   "cell_type": "code",
   "execution_count": 144,
   "metadata": {},
   "outputs": [
    {
     "name": "stdout",
     "output_type": "stream",
     "text": [
      "Computing Features for  3\n",
      "Computing Features for  0\n",
      "Number of descriptors generated for 40 images: 40\n",
      "Performing clustering\n",
      "(44042, 128)\n",
      "Number of clusters:20\n",
      "Plotting cluster result\n",
      "(20, 128)\n",
      "Vocabulary Histogram Generated\n"
     ]
    },
    {
     "data": {
      "image/png": "[encoded data removed]",
      "text/plain": [
       "<Figure size 432x288 with 1 Axes>"
      ]
     },
     "metadata": {
      "needs_background": "light"
     },
     "output_type": "display_data"
    }
   ],
   "source": [
    "pathTest = \"/home/fabiana/Desktop/projeto-final-src/datasets/SmallTest/\"\n",
    "#Codebook with size 110\n",
    "v = VocabularyDeveloper(pathTest, n_clusters=20)\n",
    "v.developVocabulary()"
   ]
  },
  {
   "cell_type": "code",
   "execution_count": 177,
   "metadata": {},
   "outputs": [],
   "source": [
    "train_path = \"/home/fabiana/Desktop/projeto-final-src/datasets/MediumTest/\""
   ]
  },
  {
   "cell_type": "code",
   "execution_count": 98,
   "metadata": {
    "collapsed": true,
    "jupyter": {
     "outputs_hidden": true
    }
   },
   "outputs": [
    {
     "name": "stdout",
     "output_type": "stream",
     "text": [
      "Computing Features for  OK\n",
      "Computing Features for  3\n",
      "Computing Features for  5\n",
      "Computing Features for  0\n",
      "Number of descriptors generated for 440 images: 440\n",
      "Performing clustering\n",
      "(422318, 128)\n",
      "Number of clusters:110\n",
      "Plotting cluster result\n",
      "(110, 128)\n",
      "Vocabulary Histogram Generated\n"
     ]
    },
    {
     "data": {
      "image/png": "[encoded data removed]",
      "text/plain": [
       "<Figure size 432x288 with 1 Axes>"
      ]
     },
     "metadata": {
      "needs_background": "light"
     },
     "output_type": "display_data"
    }
   ],
   "source": [
    "#Codebook with size 110\n",
    "vd1 = VocabularyDeveloper(train_path, n_clusters=110)\n",
    "vd1.developVocabulary()"
   ]
  },
  {
   "cell_type": "code",
   "execution_count": 99,
   "metadata": {
    "collapsed": true,
    "jupyter": {
     "outputs_hidden": true
    }
   },
   "outputs": [
    {
     "name": "stdout",
     "output_type": "stream",
     "text": [
      "Computing Features for  OK\n",
      "Computing Features for  3\n",
      "Computing Features for  5\n",
      "Computing Features for  0\n",
      "Number of descriptors generated for 440 images: 440\n",
      "Performing clustering\n",
      "(422318, 128)\n",
      "Number of clusters:220\n",
      "Plotting cluster result\n",
      "(220, 128)\n",
      "Vocabulary Histogram Generated\n"
     ]
    },
    {
     "data": {
      "image/png": "[encoded data removed]",
      "text/plain": [
       "<Figure size 432x288 with 1 Axes>"
      ]
     },
     "metadata": {
      "needs_background": "light"
     },
     "output_type": "display_data"
    }
   ],
   "source": [
    "#Codebook with size 220\n",
    "vd2 = VocabularyDeveloper(train_path, n_clusters=220)\n",
    "vd2.developVocabulary()"
   ]
  }
 ],
 "metadata": {
  "kernelspec": {
   "display_name": "Python 3",
   "language": "python",
   "name": "python3"
  },
  "language_info": {
   "codemirror_mode": {
    "name": "ipython",
    "version": 3
   },
   "file_extension": ".py",
   "mimetype": "text/x-python",
   "name": "python",
   "nbconvert_exporter": "python",
   "pygments_lexer": "ipython3",
   "version": "3.7.4"
  }
 },
 "nbformat": 4,
 "nbformat_minor": 4
}
