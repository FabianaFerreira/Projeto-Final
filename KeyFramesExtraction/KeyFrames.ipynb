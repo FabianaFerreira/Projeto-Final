{
 "cells": [
  {
   "cell_type": "code",
   "execution_count": 2,
   "metadata": {},
   "outputs": [],
   "source": [
    "import matplotlib.pyplot as plt\n",
    "import cv2\n",
    "import numpy as np\n",
    "import random\n",
    "import math\n",
    "import imageio\n",
    "import glob2 as glob\n",
    "import os\n",
    "\n",
    "from skimage.measure import compare_ssim as ssim"
   ]
  },
  {
   "cell_type": "code",
   "execution_count": 4,
   "metadata": {},
   "outputs": [],
   "source": [
    "path = \"/home/fabiana/Desktop/projeto-final-src/datasets/HandGesture/\""
   ]
  },
  {
   "cell_type": "code",
   "execution_count": 5,
   "metadata": {},
   "outputs": [],
   "source": [
    "def getAllDirectories (pathToDirectory):\n",
    "    '''\n",
    "        Function that gets all the subdirectories of a folder\n",
    "        \n",
    "        Args:\n",
    "            path: Path to root directory\n",
    "            \n",
    "        Returns: List of all the complete paths to files\n",
    "    '''\n",
    "    files = []\n",
    "    files = glob.glob(pathToDirectory + '*/', recursive=True)\n",
    "    return files\n",
    "\n",
    "def getAllFiles (pathToFiles):\n",
    "    '''\n",
    "        Function that gets all the filenames from a directory\n",
    "        \n",
    "        Args:\n",
    "            path: Path to directory\n",
    "            \n",
    "        Returns: List of all the complete paths to files\n",
    "    '''\n",
    "    files = []\n",
    "    files = glob.glob(pathToFiles + '*/video_*/', recursive=True)\n",
    "    return files"
   ]
  },
  {
   "cell_type": "code",
   "execution_count": 6,
   "metadata": {},
   "outputs": [],
   "source": [
    "directoriesList = getAllDirectories(path)\n",
    "filesList = getAllFiles(path)"
   ]
  },
  {
   "cell_type": "code",
   "execution_count": 228,
   "metadata": {
    "jupyter": {
     "source_hidden": true
    }
   },
   "outputs": [],
   "source": [
    "# def extractFramesToFile (pathToFile, dest):\n",
    "\n",
    "#     vidObj = cv2.VideoCapture(pathToFile)\n",
    "\n",
    "#     NUMBER_OF_FRAMES = int(vidObj.get(cv2.CAP_PROP_FRAME_COUNT))\n",
    "    \n",
    "#     print(NUMBER_OF_FRAMES)\n",
    "\n",
    "#     #Capture first frame\n",
    "#     read0, frame0 = vidObj.read()\n",
    "    \n",
    "#     if (not read0):\n",
    "#         print (\"Error while reading first frame\")\n",
    "#         return\n",
    "\n",
    "#     init_gray = cv2.cvtColor(frame0, cv2.COLOR_BGR2GRAY)\n",
    "#     cv2.imwrite(dest + str(0) + \".jpg\", init_gray)\n",
    "\n",
    "#     for j in range(0, NUMBER_OF_FRAMES):\n",
    "#         # Capture second frame.\n",
    "#         success, frame1 = vidObj.read()\n",
    "        \n",
    "#         if success:\n",
    "#             # Convert frames to grayscale. (ie. previous and current frames)\n",
    "#             gray0 = cv2.cvtColor(frame0, cv2.COLOR_BGR2GRAY)\n",
    "#             gray1 = cv2.cvtColor(frame1, cv2.COLOR_BGR2GRAY)\n",
    "\n",
    "#             # Display the current frame.\n",
    "# #             cv.imshow('frame1',gray1)\n",
    "#             cv2.imwrite(dest + str(j) + \".jpg\", gray1)\n",
    "        \n",
    "#         else:\n",
    "# #             print (\"Error while reading \" + str(j) + \"th frame\")\n",
    "#             continue\n",
    "            \n",
    "#         if cv2.waitKey(1) & 0xFF == ord('q'):\n",
    "#             break\n",
    "#         # Set previous frame.\n",
    "#         ret0, frame0 = vidObj.read()\n",
    "#         if (not ret0):\n",
    "#             break\n",
    "\n",
    "#     # When everything done, release the capture\n",
    "\n",
    "#     vidObj.release()\n",
    "#     cv2.destroyAllWindows()"
   ]
  },
  {
   "cell_type": "code",
   "execution_count": 223,
   "metadata": {},
   "outputs": [],
   "source": [
    "#It was used to get frames from video and save them as images\n",
    "\n",
    "# for path in directoriesList:\n",
    "#     innerFiles = glob.glob(path + '/*')\n",
    "#     for j, innerPath in enumerate(innerFiles):\n",
    "#         writePath = os.path.join(path, \"video_\" + str(j) + \"/\")\n",
    "#         os.mkdir(writePath)\n",
    "#         extractFramesToFile(innerPath, writePath)"
   ]
  },
  {
   "cell_type": "code",
   "execution_count": 10,
   "metadata": {},
   "outputs": [],
   "source": [
    "#Initializing variables\n",
    "\n",
    "TOTAL_KEY_FRAMES = 10\n",
    "\n",
    "STOPPING_ITERATION = 10\n",
    "\n",
    "NUMBER_OF_NP_CANDIDATES = 10\n",
    "\n",
    "# Scale factor. (prev .2) (pretty good 0.6)\n",
    "F = 0.9\n",
    "\n",
    "# Cr probability value. (prev .5) (pretty good 0.9)\n",
    "Cr = 0.6"
   ]
  },
  {
   "cell_type": "code",
   "execution_count": 11,
   "metadata": {
    "jupyter": {
     "source_hidden": true
    }
   },
   "outputs": [],
   "source": [
    "# Calculate ASSIM for a chromosome.\n",
    "def getASSIM(KF, filepath):\n",
    "    ssim_sum = 0\n",
    "    for i in range(0, TOTAL_KEY_FRAMES - 2):\n",
    "        while True:\n",
    "            try:\n",
    "                im1 = cv2.imread(filepath + str(KF[i]) + \".jpg\",0)\n",
    "                im2 = cv2.imread(filepath + str(KF[i+1]) + \".jpg\",0)\n",
    "                ssim_sum += ssim(im1, im2)\n",
    "            except:\n",
    "#                 print i, KF, KF[i], KF[i+1]\n",
    "#                 continue\n",
    "                print (i, KF[i], KF[i+1])\n",
    "                raise\n",
    "            break\n",
    "    return ssim_sum/(TOTAL_KEY_FRAMES - 1)\n",
    "\n",
    "# INITIALISATION : Generates population NP of 10 parent vectors (and ASSIMs).\n",
    "def initialize_NP(maxNumberOfFrames, filepath):\n",
    "    print (maxNumberOfFrames)\n",
    "    for i in range(NUMBER_OF_NP_CANDIDATES):\n",
    "        NP.append(sorted(random.sample(range(0, maxNumberOfFrames), TOTAL_KEY_FRAMES)))\n",
    "        NP[-1].append(getASSIM(NP[-1], filepath))\n",
    "#         print NP[-1]\n",
    "\n",
    "\n",
    "# MUTATION\n",
    "def mutation(parent, maxNumberOfFrames, filepath):\n",
    "    R = random.sample(NP,2)\n",
    "    global MV\n",
    "    MV[:] = []\n",
    "    MV_value = 0\n",
    "#     print NP[parent]\n",
    "    for i in range(TOTAL_KEY_FRAMES):\n",
    "        MV_value = int(NP[parent][i] + F*(R[0][i] - R[1][i]))\n",
    "        if(MV_value < 1):\n",
    "            MV.append(1)\n",
    "        elif(MV_value > maxNumberOfFrames-1):\n",
    "            MV.append(maxNumberOfFrames-1)\n",
    "        else:\n",
    "            MV.append(MV_value)\n",
    "    MV.sort()\n",
    "    MV.append(getASSIM(MV, filepath))\n",
    "\n",
    "    \n",
    "# CROSSOVER (uniform crossover with Cr = 0.6).\n",
    "def crossover(parent, mutant, filepath):\n",
    "    print (\"mutant: \", mutant)\n",
    "    print (\"parent: \", parent)\n",
    "    for j in range(TOTAL_KEY_FRAMES) :\n",
    "        if(random.uniform(0,1) < Cr) :\n",
    "            TV.append(mutant[j])\n",
    "        else:\n",
    "            TV.append(parent[j])\n",
    "    TV.sort()\n",
    "    TV.append(getASSIM(TV, filepath))\n",
    "\n",
    "# SELECTION : Selects offspring / parent based on lower ASSIM value.\n",
    "def selection(parent, trail_vector):\n",
    "    if(trail_vector[-1] < parent[-1]):\n",
    "        parent[:] = trail_vector\n",
    "        print (\"yes\", parent)\n",
    "    else:\n",
    "        print (\"no\")\n",
    "\n",
    "# bestParent returns the parent with then minimum ASSIM value.\n",
    "def bestParent(population):\n",
    "    Min_ASSIM_value = population[0][-1]\n",
    "    Best_Parent_Index = population[0]\n",
    "    for parent in population:\n",
    "        if (parent[-1] < Min_ASSIM_value):\n",
    "            Min_ASSIM_value = parent[-1]\n",
    "            Best_Parent_Index = parent\n",
    "    return Best_Parent_Index"
   ]
  },
  {
   "cell_type": "code",
   "execution_count": null,
   "metadata": {},
   "outputs": [],
   "source": [
    "for i, framesPath in enumerate(filesList):\n",
    "    # Population matrix.\n",
    "    NP = []\n",
    "    # Mutation vector.\n",
    "    MV = []\n",
    "    # Trail vector.\n",
    "    TV = []\n",
    "    list = os.listdir(framesPath) # dir is your directory path\n",
    "    framesQnt = len(list)\n",
    "    \n",
    "    print (\"Starting routine for file \" + framesPath)\n",
    "    print (\"Quantity of frames: \" + str(framesQnt))\n",
    "    \n",
    "    initialize_NP(framesQnt, framesPath)\n",
    "    \n",
    "    for GENERATION in range(STOPPING_ITERATION):\n",
    "        for i in range(NUMBER_OF_NP_CANDIDATES):\n",
    "            print (\"---------------------\", \"PARENT:\", i+1 , \"GENERATION:\", GENERATION+1, \"---------------------\")\n",
    "            mutation(i, framesQnt, framesPath)\n",
    "            crossover(NP[i], MV, framesPath)\n",
    "            selection(NP[i], TV)\n",
    "            TV[:] = []\n",
    "    best_parent = bestParent(NP)\n",
    "    print (\"best solution is: \", best_parent)\n",
    "    \n",
    "    images_for_gif = []\n",
    "    for frame_number in best_parent[:-1]:\n",
    "        images_for_gif.append(imageio.imread(framesPath + str(frame_number) + \".jpg\"))\n",
    "    imageio.mimsave(framesPath + \"result.gif\", images_for_gif)"
   ]
  },
  {
   "cell_type": "code",
   "execution_count": 1,
   "metadata": {},
   "outputs": [],
   "source": [
    "def buildImageHistogram(descriptor_list):\n",
    "    print(\"Generating histogram for image\")\n",
    "    histogram = np.zeros(len(self.kmeans_ret.cluster_centers_))\n",
    "    cluster_result = self.kmeans_ret.predict(descriptor_list)\n",
    "    for i in cluster_result:\n",
    "        histogram[i] += 1.0\n",
    "    return histogram"
   ]
  },
  {
   "cell_type": "code",
   "execution_count": null,
   "metadata": {
    "jupyter": {
     "source_hidden": true
    }
   },
   "outputs": [],
   "source": []
  }
 ],
 "metadata": {
  "kernelspec": {
   "display_name": "Python 3",
   "language": "python",
   "name": "python3"
  },
  "language_info": {
   "codemirror_mode": {
    "name": "ipython",
    "version": 3
   },
   "file_extension": ".py",
   "mimetype": "text/x-python",
   "name": "python",
   "nbconvert_exporter": "python",
   "pygments_lexer": "ipython3",
   "version": "3.7.4"
  }
 },
 "nbformat": 4,
 "nbformat_minor": 4
}
